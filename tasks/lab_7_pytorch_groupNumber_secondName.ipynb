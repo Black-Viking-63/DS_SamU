{
 "cells": [
  {
   "cell_type": "markdown",
   "id": "3546f256",
   "metadata": {},
   "source": [
    "# Лабораторная работе 7\n",
    "## Работа с Pytorch"
   ]
  },
  {
   "cell_type": "markdown",
   "id": "e4d719f6",
   "metadata": {},
   "source": [
    "1. Базовые операции\n",
    "\n",
    "    1.1.  Сгенерировать исскуственный набор данных состоящий из 3 гауссовых облаков и визуализировать его (_Используйте torch.distributions_)\n",
    "    \n",
    "    1.2.  Выполните нормировку созданного набора данных\n",
    "    \n",
    "2. Реализация собственного набора данных с помощью `DatasetIterable`\n",
    "    \n",
    "    * Используйте документацию: https://pytorch.org/docs/stable/data.html#torch.utils.data.IterableDataset\n",
    "    * Подразумевается, что данные будут генерироваться внутри метода `__iter__`. Данный метод будет возвращать кортеж (data_sample, label). \n",
    "    \n",
    "    Например: `(torch.Tensor([0.0, 0.0]), 1)  # элемент набора данных (2 признака) и метка класса (класс №1)`\n",
    "    * В конструкторке класса должны быть созданы объекты распределений (`torch.distributions`, как в предыдущем задании)\n",
    "\n",
    "3. Примените предобученную нейронную сеть к вашему набору данных использовав `pytorch-lightning`\n",
    "\n",
    "    * Можете использовать любую нейронную сеть доступную в `pytorch`\n",
    "    * Приветствуется применение логгирования в любую из систем: comet.ml, weightsAndBiases, Tensorboard (вы можете использовать [Logger](https://pytorch-lightning.readthedocs.io/en/latest/common/loggers.html) из pytorch-lightning)\n",
    "    * Также добавьте в pytorch_lightning.LightningModule вычисление какой-либо метрики, например F1-score (допускается использовать для этого scikit-learn)\n",
    "    * Сохраните лучшую модель\n",
    "    \n",
    "4. (Опционально) Используя `pytorch` реализуйте любой алгоритм машинного обучения (дискриминантный анализ, k-means, перцептрон, и т.д.) и проверьте его на любом наборе данных. Пример реализации логистической регрессии:"
   ]
  },
  {
   "cell_type": "markdown",
   "id": "83b4bcbb",
   "metadata": {},
   "source": [
    "```python\n",
    "class LogisticRegression(nn.Module):\n",
    "    def __init__(self, dim, lr=torch.scalar_tensor(0.01)):\n",
    "        super(LogisticRegression, self).__init__()\n",
    "\n",
    "        self.w = torch.zeros(dim, 1, dtype=torch.float)\n",
    "        self.b = torch.scalar_tensor(0)\n",
    "        self.grads = {\n",
    "            \"dw\": torch.zeros(dim, 1, dtype=torch.float),\n",
    "            \"db\": torch.scalar_tensor(0)\n",
    "        }\n",
    "        self.lr = lr\n",
    "\n",
    "    def forward(self, x):\n",
    "        z = torch.mm(self.w.T, x)  # mm == Matrix Multiplication\n",
    "        a = self.sigmoid(z)\n",
    "        return a\n",
    "\n",
    "    def sigmoid(self, z):\n",
    "        return 1/(1 + torch.exp(-z))\n",
    "\n",
    "    def backward(self, x, y_hat, y):\n",
    "        self.grads[\"dw\"] = (1/x.shape[1]) * torch.mm(x, (y_hat - y).T)\n",
    "        self.grads[\"db\"] = (1/x.shape[1]) * torch.sum(y_hat - y)\n",
    "    \n",
    "    def optimize(self):\n",
    "        self.w = self.w - self.lr * self.grads[\"dw\"]\n",
    "        self.b = self.b - self.lr * self.grads[\"db\"]\n",
    "```"
   ]
  },
  {
   "cell_type": "code",
   "execution_count": null,
   "id": "c6dc6921",
   "metadata": {},
   "outputs": [],
   "source": []
  }
 ],
 "metadata": {
  "kernelspec": {
   "display_name": "Python 3",
   "language": "python",
   "name": "python3"
  },
  "language_info": {
   "codemirror_mode": {
    "name": "ipython",
    "version": 3
   },
   "file_extension": ".py",
   "mimetype": "text/x-python",
   "name": "python",
   "nbconvert_exporter": "python",
   "pygments_lexer": "ipython3",
   "version": "3.8.8"
  }
 },
 "nbformat": 4,
 "nbformat_minor": 5
}
