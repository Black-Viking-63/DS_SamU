{
 "cells": [
  {
   "cell_type": "markdown",
   "id": "d38cf9d0",
   "metadata": {},
   "source": [
    "# Pytorch: для чего и зачем?\n",
    "\n",
    "Составители туториала: [Артем Мухин](https://github.com/Banayaki)"
   ]
  },
  {
   "cell_type": "markdown",
   "id": "22cba789",
   "metadata": {},
   "source": [
    "`Pytorch` - библиотека для *Python*, позволяющая писать программы, вычисляемые на различных типах процессоров (CPU, GPU, TPU). Поддерживает работу с многомерными типами данных."
   ]
  },
  {
   "cell_type": "markdown",
   "id": "b75b959b",
   "metadata": {},
   "source": [
    "`Pytorch` отлично подходит для решения задач машинного обучения, в частности для работ с нейросетевыми алгоритмами. Однако, в явном виде не существует никаких ограничений по использованию `pytorch` в программировании. Его также можно применять для оптимизации вычислений больших объемов данных, а именно переноса вычислений с CPU на GPU. "
   ]
  },
  {
   "cell_type": "markdown",
   "id": "d3da7a9e",
   "metadata": {},
   "source": [
    "`Pytorch` очень популярен и имеет за собой большое сообщество. По следующему изображению можно оценить рост популярности данной библиотеки с течением времени в сравнении с `Tensorflow` (альтернатива `pytorch`). Данный рост популярности можно объяснить простотой изучения библиотеки, гибокостью и постоянным развитием проекта. `Pytorch` предлаегает большой набор различных функций, который аргонично смотрятся в `Python`.\n",
    "\n",
    "![Trends](./imgs/Trends.png)"
   ]
  },
  {
   "cell_type": "markdown",
   "id": "b04f5008",
   "metadata": {},
   "source": [
    "# Установка"
   ]
  },
  {
   "cell_type": "markdown",
   "id": "a29237b9",
   "metadata": {},
   "source": [
    "[Официальная инструкция по установке `Pytorch`](https://pytorch.org/get-started/locally/)\n",
    "\n",
    "[nvidia-docker образ с `Pytorch` на борту](https://docs.nvidia.com/deeplearning/frameworks/pytorch-release-notes/running.html#running)\n",
    "\n",
    "[Google Colaboratory](https://colab.research.google.com/) - в колаборатории также установлен pytorch, если по каким-либо причинам вы не можете установить и использовать `pytorch` у себя на компьютере\n",
    "\n",
    "[Kaggle](https://www.kaggle.com/) - является в некотором роде аналогом *\"google colaboratory\"*.  Также предоставляет доступ к GPU и имеет ряд предустановленных библиотек (включая `pytorch`). Кроме того, позволяет оперативно использовать наборы данных из  *kaggle*, и имеет более удобный инструмент наблюдения за доступностью GPU."
   ]
  },
  {
   "cell_type": "code",
   "execution_count": 1,
   "id": "7a33e8b4",
   "metadata": {},
   "outputs": [
    {
     "data": {
      "text/plain": [
       "'1.9.0a0+2ecb2c7'"
      ]
     },
     "execution_count": 1,
     "metadata": {},
     "output_type": "execute_result"
    }
   ],
   "source": [
    "import torch\n",
    "import torch.optim as optim\n",
    "import torch.nn as nn\n",
    "import torchvision\n",
    "\n",
    "import numpy as np\n",
    "import matplotlib.pyplot as plt\n",
    "torch.__version__"
   ]
  },
  {
   "cell_type": "markdown",
   "id": "0ed7b6fc",
   "metadata": {},
   "source": [
    "# Основы Pytorch"
   ]
  },
  {
   "cell_type": "markdown",
   "id": "ebe44663",
   "metadata": {},
   "source": [
    "## Тензоры"
   ]
  },
  {
   "cell_type": "markdown",
   "id": "a0a6dd69",
   "metadata": {},
   "source": [
    "API  `pytorch` очень похоже на `numpy`"
   ]
  },
  {
   "cell_type": "code",
   "execution_count": 2,
   "id": "03575b69",
   "metadata": {},
   "outputs": [
    {
     "data": {
      "text/plain": [
       "tensor([4., 1., 5., 3., 2., 1.])"
      ]
     },
     "execution_count": 2,
     "metadata": {},
     "output_type": "execute_result"
    }
   ],
   "source": [
    "torch.tensor([4.0, 1.0, 5.0, 3.0, 2.0, 1.0])"
   ]
  },
  {
   "cell_type": "code",
   "execution_count": 3,
   "id": "08a52a86",
   "metadata": {},
   "outputs": [
    {
     "data": {
      "text/plain": [
       "(tensor([[4., 1.],\n",
       "         [5., 3.],\n",
       "         [2., 1.]]),\n",
       " torch.Size([3, 2]),\n",
       " tensor(1.))"
      ]
     },
     "execution_count": 3,
     "metadata": {},
     "output_type": "execute_result"
    }
   ],
   "source": [
    "a = torch.tensor([[4.0, 1.0], [5.0, 3.0], [2.0, 1.0]])\n",
    "a, a.shape, a[0, 1]"
   ]
  },
  {
   "cell_type": "code",
   "execution_count": 4,
   "id": "a4ec5688",
   "metadata": {},
   "outputs": [
    {
     "data": {
      "text/plain": [
       "tensor([1., 1., 1.])"
      ]
     },
     "execution_count": 4,
     "metadata": {},
     "output_type": "execute_result"
    }
   ],
   "source": [
    "torch.ones(3)"
   ]
  },
  {
   "cell_type": "code",
   "execution_count": 5,
   "id": "52a5b0b9",
   "metadata": {},
   "outputs": [
    {
     "data": {
      "text/plain": [
       "tensor([[0.8483, 0.9757, 0.0527],\n",
       "        [0.1782, 0.3628, 0.6692],\n",
       "        [0.6240, 0.1950, 0.3186]])"
      ]
     },
     "execution_count": 5,
     "metadata": {},
     "output_type": "execute_result"
    }
   ],
   "source": [
    "torch.rand(3, 3)"
   ]
  },
  {
   "cell_type": "markdown",
   "id": "7c0ddc58",
   "metadata": {},
   "source": [
    "`pyotrch` тензоры также можно легко конвертировать в `np.ndarray` и из него, используя методы `numpy()` и `from_numpy()` соответственно."
   ]
  },
  {
   "cell_type": "code",
   "execution_count": 6,
   "id": "e6518db9",
   "metadata": {},
   "outputs": [
    {
     "data": {
      "text/plain": [
       "tensor([[0., 0., 0.],\n",
       "        [0., 0., 0.],\n",
       "        [0., 0., 0.]], dtype=torch.float64)"
      ]
     },
     "execution_count": 6,
     "metadata": {},
     "output_type": "execute_result"
    }
   ],
   "source": [
    "a = np.zeros((3, 3))\n",
    "torch.from_numpy(a)  # Возвращает pytorch.Tensor"
   ]
  },
  {
   "cell_type": "code",
   "execution_count": 7,
   "id": "f04722fb",
   "metadata": {},
   "outputs": [
    {
     "data": {
      "text/plain": [
       "array([4., 1., 5., 3., 2., 1.], dtype=float32)"
      ]
     },
     "execution_count": 7,
     "metadata": {},
     "output_type": "execute_result"
    }
   ],
   "source": [
    "a = torch.tensor([4.0, 1.0, 5.0, 3.0, 2.0, 1.0])\n",
    "a.numpy()  # Возвращает np.ndarray"
   ]
  },
  {
   "cell_type": "markdown",
   "id": "20905d03",
   "metadata": {},
   "source": [
    "Для чтения и сохранения данных также как и в `numpy` используются функции `save()` и `load()`"
   ]
  },
  {
   "cell_type": "code",
   "execution_count": 8,
   "id": "cb960817",
   "metadata": {},
   "outputs": [],
   "source": [
    "torch.save(a, 'tensor.pt')"
   ]
  },
  {
   "cell_type": "code",
   "execution_count": 9,
   "id": "153a683f",
   "metadata": {},
   "outputs": [
    {
     "data": {
      "text/plain": [
       "tensor([4., 1., 5., 3., 2., 1.])"
      ]
     },
     "execution_count": 9,
     "metadata": {},
     "output_type": "execute_result"
    }
   ],
   "source": [
    "torch.load('tensor.pt')"
   ]
  },
  {
   "cell_type": "markdown",
   "id": "641c4eec",
   "metadata": {},
   "source": [
    "Для тензоров также можно вычислять среднее, дисперсию и прочее, как в `numpy`. \n",
    "\n",
    "**Однако в отличие** от `numpy`, ось указывается параметром `dim`, а не `axis`."
   ]
  },
  {
   "cell_type": "code",
   "execution_count": 10,
   "id": "18821eba",
   "metadata": {},
   "outputs": [
    {
     "data": {
      "text/plain": [
       "(tensor(2.6667), tensor(1.6330), tensor(2.6667))"
      ]
     },
     "execution_count": 10,
     "metadata": {},
     "output_type": "execute_result"
    }
   ],
   "source": [
    "a.mean(), a.std(), a.var()"
   ]
  },
  {
   "cell_type": "code",
   "execution_count": 11,
   "id": "fbe9d8c0",
   "metadata": {},
   "outputs": [
    {
     "data": {
      "text/plain": [
       "(tensor(2.6667), tensor(1.6330), tensor(2.6667))"
      ]
     },
     "execution_count": 11,
     "metadata": {},
     "output_type": "execute_result"
    }
   ],
   "source": [
    "torch.mean(a), torch.std(a), torch.var(a)"
   ]
  },
  {
   "cell_type": "code",
   "execution_count": 12,
   "id": "477835d5",
   "metadata": {},
   "outputs": [
    {
     "data": {
      "text/plain": [
       "tensor(2.6667)"
      ]
     },
     "execution_count": 12,
     "metadata": {},
     "output_type": "execute_result"
    }
   ],
   "source": [
    "torch.mean(a, dim=0)"
   ]
  },
  {
   "cell_type": "markdown",
   "id": "b45cf8b8",
   "metadata": {},
   "source": [
    "# Игрушечный пример"
   ]
  },
  {
   "cell_type": "markdown",
   "id": "048dc376",
   "metadata": {},
   "source": [
    "## Задача"
   ]
  },
  {
   "cell_type": "markdown",
   "id": "82c7e0f1",
   "metadata": {},
   "source": [
    "Есть некоторый набор данных, для которого нужно построить регрессионную модель"
   ]
  },
  {
   "cell_type": "markdown",
   "id": "e06c0000",
   "metadata": {},
   "source": [
    "## Данные"
   ]
  },
  {
   "cell_type": "code",
   "execution_count": 13,
   "id": "5ab76089",
   "metadata": {},
   "outputs": [],
   "source": [
    "x_data = [0.5,  14.0, 15.0, 28.0, 11.0,  8.0,  3.0, -4.0,  6.0, 13.0, 21.0]  # Значения некоторого признака\n",
    "y_data = [35.7, 55.9, 58.2, 81.9, 56.3, 48.9, 33.9, 21.8, 48.4, 60.4, 68.4]  # Регрессируемое значение"
   ]
  },
  {
   "cell_type": "code",
   "execution_count": 14,
   "id": "2a8a54e6",
   "metadata": {},
   "outputs": [
    {
     "data": {
      "text/plain": [
       "Text(0, 0.5, 'Y')"
      ]
     },
     "execution_count": 14,
     "metadata": {},
     "output_type": "execute_result"
    },
    {
     "data": {
      "image/png": "[encoded data removed]",
      "text/plain": [
       "<Figure size 432x288 with 1 Axes>"
      ]
     },
     "metadata": {
      "needs_background": "light"
     },
     "output_type": "display_data"
    }
   ],
   "source": [
    "plt.scatter(x_data, y_data)\n",
    "plt.title(\"Визуализация данных\")\n",
    "plt.xlabel(\"X\")\n",
    "plt.ylabel(\"Y\")"
   ]
  },
  {
   "cell_type": "markdown",
   "id": "f020317f",
   "metadata": {},
   "source": [
    "*Предположим, что простая линейная модель здесь подойдет*"
   ]
  },
  {
   "cell_type": "markdown",
   "id": "16b9cf95",
   "metadata": {},
   "source": [
    "## Предобработка данных"
   ]
  },
  {
   "cell_type": "code",
   "execution_count": 15,
   "id": "b3dde523",
   "metadata": {},
   "outputs": [],
   "source": [
    "x_data = torch.tensor(x_data)\n",
    "y_data = torch.tensor(y_data) "
   ]
  },
  {
   "cell_type": "markdown",
   "id": "fd50c517",
   "metadata": {},
   "source": [
    "Для подавляющего большинства моделей машинного обучения - данные необходимо нормировать.\n",
    "\n",
    "Для этого проведем стандартизацию данных:"
   ]
  },
  {
   "cell_type": "code",
   "execution_count": 16,
   "id": "64d97bda",
   "metadata": {},
   "outputs": [],
   "source": [
    "def standartization(x: torch.Tensor) -> torch.Tensor:\n",
    "    \"\"\"\n",
    "    Perofrms data standartization by the following formula:\n",
    "    data = (data - mean(data)) / std(data)\n",
    "    \"\"\"\n",
    "    return (x - x.mean()) / x.std()"
   ]
  },
  {
   "cell_type": "code",
   "execution_count": 17,
   "id": "760da606",
   "metadata": {},
   "outputs": [],
   "source": [
    "x_ndata = standartization(x_data)\n",
    "y_ndata = standartization(y_data)"
   ]
  },
  {
   "cell_type": "code",
   "execution_count": 18,
   "id": "8bc0d2ae",
   "metadata": {},
   "outputs": [
    {
     "data": {
      "text/plain": [
       "(tensor([-1.0856,  0.3800,  0.4885,  1.8998,  0.0543, -0.2714, -0.8142, -1.5741,\n",
       "         -0.4885,  0.2714,  1.1399]),\n",
       " tensor([-0.9565,  0.2436,  0.3802,  1.7883,  0.2673, -0.1723, -1.0635, -1.7823,\n",
       "         -0.2020,  0.5109,  0.9862]))"
      ]
     },
     "execution_count": 18,
     "metadata": {},
     "output_type": "execute_result"
    }
   ],
   "source": [
    "x_ndata, y_ndata"
   ]
  },
  {
   "cell_type": "markdown",
   "id": "ad261284",
   "metadata": {},
   "source": [
    "## Модель"
   ]
  },
  {
   "cell_type": "code",
   "execution_count": 19,
   "id": "f7569c37",
   "metadata": {},
   "outputs": [],
   "source": [
    "def model(x, w, b):\n",
    "    \"\"\"\n",
    "    :param x: input\n",
    "    :param w: weights\n",
    "    :param b: bias\n",
    "    \"\"\"\n",
    "    return w * x + b"
   ]
  },
  {
   "cell_type": "markdown",
   "id": "80536a7c",
   "metadata": {},
   "source": [
    "## Функция ошибки"
   ]
  },
  {
   "cell_type": "code",
   "execution_count": 20,
   "id": "8569cfae",
   "metadata": {},
   "outputs": [],
   "source": [
    "def loss_fn(x, y):\n",
    "    \"\"\"\n",
    "    Calculates mean squared error (MSE)\n",
    "    \"\"\"\n",
    "    loss = (x - y) ** 2\n",
    "    return loss.mean()"
   ]
  },
  {
   "cell_type": "markdown",
   "id": "562033c8",
   "metadata": {},
   "source": [
    "## Инициализация параметров модели"
   ]
  },
  {
   "cell_type": "code",
   "execution_count": 21,
   "id": "d474ef3c",
   "metadata": {},
   "outputs": [],
   "source": [
    "# params[0] - weights, params[1] - bias\n",
    "params = torch.tensor([1.0, 0.0], requires_grad=True)  "
   ]
  },
  {
   "cell_type": "markdown",
   "id": "d8b56d65",
   "metadata": {},
   "source": [
    "Здесь впервые мы встречаем такой параметр, как `requires_grad`. Данный параметр отсылает нас к ключевой части `pytorch`, называемой `autograd`. `autograd` это система автоматического дифференциирования, основанная на вычислительных графах. Так, выполняя различные операции над тензорами, `pytorch` автоматически создаёт граф выполненных операций, благодаря которому он может также автоматически вычислять градиент функции по заданным переменным применяя *правило дифференциирования сложной функции*. \n",
    "\n",
    "Для более подробной информации, Вы можете обратиться к следующим источникам:\n",
    "\n",
    "[__Pytorch.autograd official documentation__](https://pytorch.org/docs/stable/notes/autograd.html)\n",
    "\n",
    "[Official tutorial about autograd](https://pytorch.org/tutorials/beginner/basics/autogradqs_tutorial.html)\n",
    "\n",
    "[__Pytorch graph explanation__](https://blog.paperspace.com/pytorch-101-understanding-graphs-and-automatic-differentiation/)"
   ]
  },
  {
   "cell_type": "code",
   "execution_count": 22,
   "id": "24d19add",
   "metadata": {},
   "outputs": [
    {
     "name": "stdout",
     "output_type": "stream",
     "text": [
      "params.grad is None:  True\n"
     ]
    }
   ],
   "source": [
    "# Пока не было выполнено никаких операций над параметрами - их градиент не существует\n",
    "print(\"params.grad is None: \", params.grad is None)"
   ]
  },
  {
   "cell_type": "code",
   "execution_count": 23,
   "id": "4dcad984",
   "metadata": {},
   "outputs": [
    {
     "data": {
      "text/plain": [
       "tensor([3.4838e-02, 2.6450e-07])"
      ]
     },
     "execution_count": 23,
     "metadata": {},
     "output_type": "execute_result"
    }
   ],
   "source": [
    "loss = loss_fn(model(x_ndata, *params), y_ndata)\n",
    "loss.backward()  # Функция которая вычисляет градиент ошибки\n",
    "\n",
    "# Если вы запустите данную клетку несколько раз - градиент будет накапливаться, а граф продолжать строиться \n",
    "params.grad"
   ]
  },
  {
   "cell_type": "markdown",
   "id": "1e0a06b9",
   "metadata": {},
   "source": [
    "Значения градиента можно лего очистить"
   ]
  },
  {
   "cell_type": "code",
   "execution_count": 24,
   "id": "636fce12",
   "metadata": {},
   "outputs": [
    {
     "data": {
      "text/plain": [
       "tensor([0., 0.])"
      ]
     },
     "execution_count": 24,
     "metadata": {},
     "output_type": "execute_result"
    }
   ],
   "source": [
    "if params.grad is not None:\n",
    "    params.grad.zero_()  # вызовы метода zero_ с нижним подчеркиванием выполняет операцию in-place\n",
    "params.grad"
   ]
  },
  {
   "cell_type": "markdown",
   "id": "6f19e0a8",
   "metadata": {},
   "source": [
    "## Напишем тренировочный цикл"
   ]
  },
  {
   "cell_type": "code",
   "execution_count": 25,
   "id": "4f74981d",
   "metadata": {},
   "outputs": [],
   "source": [
    "def training_loop(n_epochs: int, learning_rate: float, params: torch.Tensor, x: torch.Tensor, y: torch.Tensor):\n",
    "    \"\"\"\n",
    "    :param n_epochs: number of training epochs\n",
    "    :param learning_rate: learning rate of the model (multiplied on loss' gradient)\n",
    "    :param x: model's input\n",
    "    :param y: labels\n",
    "    \"\"\"\n",
    "    for epoch in range(1, n_epochs + 1):\n",
    "        if params.grad is not None:\n",
    "            params.grad.zero_()\n",
    "        \n",
    "        # Forward pass\n",
    "        preds = model(x, *params) \n",
    "        # Вычисление функции ошибки\n",
    "        loss = loss_fn(preds, y)\n",
    "        # Вычисление градиента (backward pass)\n",
    "        loss.backward()\n",
    "        \n",
    "        # Контекст внутри которого градиент не вычисляется\n",
    "        with torch.no_grad():  \n",
    "            # Изменение параметров модели\n",
    "            params -= learning_rate * params.grad\n",
    "\n",
    "        if epoch % 500 == 0:\n",
    "            print('Epoch %d, Loss %f' % (epoch, float(loss)))\n",
    "            \n",
    "    return params"
   ]
  },
  {
   "cell_type": "markdown",
   "id": "956ded9e",
   "metadata": {},
   "source": [
    "## Решение задачи"
   ]
  },
  {
   "cell_type": "code",
   "execution_count": 26,
   "id": "abc2f212",
   "metadata": {},
   "outputs": [
    {
     "name": "stdout",
     "output_type": "stream",
     "text": [
      "Epoch 500, Loss 0.034504\n",
      "Epoch 1000, Loss 0.034504\n",
      "Epoch 1500, Loss 0.034504\n",
      "Epoch 2000, Loss 0.034504\n",
      "Epoch 2500, Loss 0.034504\n",
      "Epoch 3000, Loss 0.034504\n",
      "Epoch 3500, Loss 0.034504\n",
      "Epoch 4000, Loss 0.034504\n",
      "Epoch 4500, Loss 0.034504\n",
      "Epoch 5000, Loss 0.034504\n",
      "CPU times: user 455 ms, sys: 9.66 ms, total: 464 ms\n",
      "Wall time: 461 ms\n"
     ]
    }
   ],
   "source": [
    "%%time\n",
    "resulted_model_params = training_loop(\n",
    "                            n_epochs = 5000, \n",
    "                            learning_rate = 1e-2, \n",
    "                            params = torch.tensor([1.0, 0.0], requires_grad=True),\n",
    "                            x = x_ndata,\n",
    "                            y = y_ndata)"
   ]
  },
  {
   "cell_type": "code",
   "execution_count": 27,
   "id": "3f7cf935",
   "metadata": {},
   "outputs": [
    {
     "data": {
      "text/plain": [
       "tensor([ 9.8084e-01, -1.3467e-07], requires_grad=True)"
      ]
     },
     "execution_count": 27,
     "metadata": {},
     "output_type": "execute_result"
    }
   ],
   "source": [
    "resulted_model_params"
   ]
  },
  {
   "cell_type": "markdown",
   "id": "fe6ec6af",
   "metadata": {},
   "source": [
    "### Визуализируем решение"
   ]
  },
  {
   "cell_type": "code",
   "execution_count": 28,
   "id": "f2f01939",
   "metadata": {},
   "outputs": [
    {
     "data": {
      "text/plain": [
       "[<matplotlib.lines.Line2D at 0x7effe91d84f0>]"
      ]
     },
     "execution_count": 28,
     "metadata": {},
     "output_type": "execute_result"
    },
    {
     "data": {
      "image/png": "[encoded data removed]",
      "text/plain": [
       "<Figure size 720x480 with 1 Axes>"
      ]
     },
     "metadata": {
      "needs_background": "light"
     },
     "output_type": "display_data"
    }
   ],
   "source": [
    "preds = model(x_ndata, *resulted_model_params)\n",
    "\n",
    "fig = plt.figure(dpi=120)\n",
    "plt.xlabel(\"Temperature (°Fahrenheit)\")\n",
    "plt.ylabel(\"Temperature (°Celsius)\")\n",
    "plt.plot(x_ndata.numpy(), preds.detach().numpy())\n",
    "plt.plot(x_ndata.numpy(), y_ndata.numpy(), 'o')"
   ]
  },
  {
   "cell_type": "markdown",
   "id": "24c1b3e8",
   "metadata": {},
   "source": [
    "*`detach()` - метод, который возвращает **новый** тензор, **не являющийся** частью вычислительного графа*"
   ]
  },
  {
   "cell_type": "markdown",
   "id": "cb948ba3",
   "metadata": {},
   "source": [
    "Как можно увидеть из полученного рисунка, мы нашли одно из возможны решений. \n",
    "\n",
    "Исходные данные представляли собой значения температуры в градусах цельсия и по фаренгейту. "
   ]
  },
  {
   "cell_type": "markdown",
   "id": "4c4a8a96",
   "metadata": {},
   "source": [
    "# Вычисление на GPU"
   ]
  },
  {
   "cell_type": "markdown",
   "id": "92838a82",
   "metadata": {},
   "source": [
    "Как правило, говоря о вычислении на GPU, в качестве GPU будет использовано устройство компании Nvidia. В таком случае для проверки доступности GPU можно воспользоваться командой `nvidia-smi`"
   ]
  },
  {
   "cell_type": "code",
   "execution_count": 29,
   "id": "ad67080f",
   "metadata": {},
   "outputs": [
    {
     "name": "stdout",
     "output_type": "stream",
     "text": [
      "Fri Feb 18 10:26:16 2022       \n",
      "+-----------------------------------------------------------------------------+\n",
      "| NVIDIA-SMI 465.19.01    Driver Version: 465.19.01    CUDA Version: 11.3     |\n",
      "|-------------------------------+----------------------+----------------------+\n",
      "| GPU  Name        Persistence-M| Bus-Id        Disp.A | Volatile Uncorr. ECC |\n",
      "| Fan  Temp  Perf  Pwr:Usage/Cap|         Memory-Usage | GPU-Util  Compute M. |\n",
      "|                               |                      |               MIG M. |\n",
      "|===============================+======================+======================|\n",
      "|   0  NVIDIA GeForce ...  On   | 00000000:17:00.0 Off |                  N/A |\n",
      "| 27%   32C    P8     6W / 250W |   9954MiB / 11016MiB |      0%      Default |\n",
      "|                               |                      |                  N/A |\n",
      "+-------------------------------+----------------------+----------------------+\n",
      "|   1  NVIDIA GeForce ...  On   | 00000000:B3:00.0 Off |                  N/A |\n",
      "| 33%   45C    P8     2W / 250W |    293MiB / 11019MiB |      0%      Default |\n",
      "|                               |                      |                  N/A |\n",
      "+-------------------------------+----------------------+----------------------+\n",
      "                                                                               \n",
      "+-----------------------------------------------------------------------------+\n",
      "| Processes:                                                                  |\n",
      "|  GPU   GI   CI        PID   Type   Process name                  GPU Memory |\n",
      "|        ID   ID                                                   Usage      |\n",
      "|=============================================================================|\n",
      "+-----------------------------------------------------------------------------+\n"
     ]
    }
   ],
   "source": [
    "!nvidia-smi"
   ]
  },
  {
   "cell_type": "markdown",
   "id": "ba45e9f7",
   "metadata": {},
   "source": [
    "Как можно увидеть из вывода команды - сейчас в ноутбуке доступны две видеоакрты, однако GPU с `id=0` занят. Для того чтобы `pytorch` выполнял вычисления на GPU необходимо просто перенести на GPU данные использовав метод `.to()`"
   ]
  },
  {
   "cell_type": "code",
   "execution_count": 30,
   "id": "b74fea13",
   "metadata": {},
   "outputs": [],
   "source": [
    "device = 'cpu'  # Обычно pytorch выполняет вычисление на CPU если не указать ему обратного\n",
    "device = 'cuda:1'  # 1 == использовать GPU с ID=1"
   ]
  },
  {
   "cell_type": "code",
   "execution_count": 31,
   "id": "a2bb0808",
   "metadata": {},
   "outputs": [],
   "source": [
    "x_ndata = x_ndata.to(device)\n",
    "y_ndata = y_ndata.to(device)"
   ]
  },
  {
   "cell_type": "markdown",
   "id": "01da454c",
   "metadata": {},
   "source": [
    "Теперь вычисления будут выполнены на GPU, однако в такой простой задаче мы увидим лишь замедленее"
   ]
  },
  {
   "cell_type": "code",
   "execution_count": 32,
   "id": "12ef9015",
   "metadata": {},
   "outputs": [
    {
     "name": "stdout",
     "output_type": "stream",
     "text": [
      "Epoch 500, Loss 0.034504\n",
      "Epoch 1000, Loss 0.034504\n",
      "Epoch 1500, Loss 0.034504\n",
      "Epoch 2000, Loss 0.034504\n",
      "Epoch 2500, Loss 0.034504\n",
      "Epoch 3000, Loss 0.034504\n",
      "Epoch 3500, Loss 0.034504\n",
      "Epoch 4000, Loss 0.034504\n",
      "Epoch 4500, Loss 0.034504\n",
      "Epoch 5000, Loss 0.034504\n",
      "CPU times: user 2.92 s, sys: 125 ms, total: 3.04 s\n",
      "Wall time: 2.98 s\n"
     ]
    }
   ],
   "source": [
    "%%time\n",
    "resulted_model_params = training_loop(\n",
    "                            n_epochs = 5000, \n",
    "                            learning_rate = 1e-2, \n",
    "                            params = torch.tensor([1.0, 0.0], requires_grad=True, device=device),\n",
    "                            x = x_ndata,\n",
    "                            y = y_ndata)"
   ]
  },
  {
   "cell_type": "markdown",
   "id": "4d5cd321",
   "metadata": {},
   "source": [
    "# Нейронные сети"
   ]
  },
  {
   "cell_type": "markdown",
   "id": "da47e981",
   "metadata": {},
   "source": [
    "Чаще всего `pytorch` применяют для создания и обучения нейросетевых моделей. Рассмотрим то, как `pytorch` помогает программистам создавать модели нейронных сетей, загружать и обрабатывать данные, обучать нейронные сети.\n",
    "\n",
    "Далее, будем исходить из предположения, что Вы знакомы с основами нейросетевых алгоритмов, со сверточными нейронными сетями."
   ]
  },
  {
   "cell_type": "markdown",
   "id": "66df2ba0",
   "metadata": {},
   "source": [
    "## Построение модели"
   ]
  },
  {
   "cell_type": "markdown",
   "id": "f9caba82",
   "metadata": {},
   "source": [
    "Начнем с построения архитектуры простейшей сверточной сети. В их основе лежат так называемые `сверточные(convolutional)` слои. Большинство, часто используемых слоёв, уже реализованы в модуле `pytorch.nn`."
   ]
  },
  {
   "cell_type": "markdown",
   "id": "2013011f",
   "metadata": {},
   "source": [
    "Для построения моделей `pytorch` предлагает два инструмента: \n",
    " * `torch.nn.Sequential`\n",
    " * `torch.nn.Module`\n",
    " \n",
    "Это не взаимоисключающие варианты, как правило они используются совместно"
   ]
  },
  {
   "cell_type": "markdown",
   "id": "3596927c",
   "metadata": {},
   "source": [
    "### Пример с перцептроном\n",
    "#### nn.Sequential"
   ]
  },
  {
   "cell_type": "code",
   "execution_count": 33,
   "id": "62e20077",
   "metadata": {},
   "outputs": [
    {
     "data": {
      "text/plain": [
       "Sequential(\n",
       "  (0): Linear(in_features=1, out_features=11, bias=True)\n",
       "  (1): ReLU()\n",
       "  (2): Linear(in_features=11, out_features=1, bias=True)\n",
       ")"
      ]
     },
     "execution_count": 33,
     "metadata": {},
     "output_type": "execute_result"
    }
   ],
   "source": [
    "model = nn.Sequential(\n",
    "    nn.Linear(1, 11),  # Input\n",
    "    nn.ReLU(),  # Activation\n",
    "    nn.Linear(11, 1)  # Output\n",
    ")\n",
    "model"
   ]
  },
  {
   "cell_type": "markdown",
   "id": "5ceb29af",
   "metadata": {},
   "source": [
    "#### nn.Module"
   ]
  },
  {
   "cell_type": "code",
   "execution_count": 34,
   "id": "c129595d",
   "metadata": {},
   "outputs": [],
   "source": [
    "class Model(nn.Module):\n",
    "    def __init__(self, n_classes: int = 3, dim: int = 2, n_features = 100):\n",
    "        super().__init__()\n",
    "        \n",
    "        self.in_layer = nn.Linear(dim, n_features)\n",
    "        self.hidden_layer = nn.Linear(n_features, n_features)\n",
    "        self.out_layer = nn.Linear(n_features, n_classes)\n",
    "        \n",
    "    def forward(self, x):\n",
    "        hx = self.in_layer(x)\n",
    "        hx = torch.relu(hx)\n",
    "        hx = self.hiddent_layer(hx)\n",
    "        hx = torch.relu(hx)\n",
    "        out = self.out_layer(hx)\n",
    "\n",
    "        return torch.sigmoid(out)"
   ]
  },
  {
   "cell_type": "code",
   "execution_count": 35,
   "id": "75094f85",
   "metadata": {},
   "outputs": [
    {
     "data": {
      "text/plain": [
       "Model(\n",
       "  (in_layer): Linear(in_features=2, out_features=100, bias=True)\n",
       "  (hidden_layer): Linear(in_features=100, out_features=100, bias=True)\n",
       "  (out_layer): Linear(in_features=100, out_features=3, bias=True)\n",
       ")"
      ]
     },
     "execution_count": 35,
     "metadata": {},
     "output_type": "execute_result"
    }
   ],
   "source": [
    "model = Model()\n",
    "model"
   ]
  },
  {
   "cell_type": "markdown",
   "id": "b20c5b8f",
   "metadata": {},
   "source": [
    "#### Combination"
   ]
  },
  {
   "cell_type": "code",
   "execution_count": 36,
   "id": "85d34a1e",
   "metadata": {},
   "outputs": [],
   "source": [
    "class ConvBnRelu(nn.Module):\n",
    "    \"\"\"\n",
    "    Полезная статья о слое \"Батч нормализации\"\n",
    "    https://arxiv.org/pdf/1502.03167.pdf\n",
    "    \n",
    "    Conv Layer -> BatchNorm Layer -> Activation Layer\n",
    "    \"\"\"\n",
    "    \n",
    "    def __init__(self, in_f, out_f, activation=torch.relu):\n",
    "        super().__init__()\n",
    "        \n",
    "        self.conv = nn.Conv2d(in_f, out_f, kernel_size=3)\n",
    "        self.bn = nn.BatchNorm2d(out_f)\n",
    "        self.activation = activation\n",
    "        \n",
    "    def forward(self, x):\n",
    "        hx = self.conv(x)\n",
    "        hx = self.bn(hx)\n",
    "        return self.activation(hx)\n",
    "\n",
    "\n",
    "class Model(nn.Module):\n",
    "    def __init__(self, n_classes: int = 3, n_features = 16):\n",
    "        super().__init__()\n",
    "        \n",
    "        self.in_layer = ConvBnRelu(3, n_features)\n",
    "        # 5 подряд идущих блоков\n",
    "        self.hidden_layers = nn.Sequential(*[ConvBnRelu(n_features, n_features) for _ in range(5)])\n",
    "        self.flatten = nn.Flatten()\n",
    "        self.out_layer = nn.Linear(n_features * n_features, n_classes)\n",
    "        \n",
    "    def forward(self, x):\n",
    "        hx = self.in_layer(x)\n",
    "        for l in self.hidden_layers:\n",
    "            hx = l(hx)\n",
    "        hx = self.flatten(hx)\n",
    "        print(hx.shape)\n",
    "        out = self.out_layer(hx)\n",
    "\n",
    "        return torch.sigmoid(out)"
   ]
  },
  {
   "cell_type": "code",
   "execution_count": 37,
   "id": "4eddea6d",
   "metadata": {},
   "outputs": [
    {
     "data": {
      "text/plain": [
       "Model(\n",
       "  (in_layer): ConvBnRelu(\n",
       "    (conv): Conv2d(3, 16, kernel_size=(3, 3), stride=(1, 1))\n",
       "    (bn): BatchNorm2d(16, eps=1e-05, momentum=0.1, affine=True, track_running_stats=True)\n",
       "  )\n",
       "  (hidden_layers): Sequential(\n",
       "    (0): ConvBnRelu(\n",
       "      (conv): Conv2d(16, 16, kernel_size=(3, 3), stride=(1, 1))\n",
       "      (bn): BatchNorm2d(16, eps=1e-05, momentum=0.1, affine=True, track_running_stats=True)\n",
       "    )\n",
       "    (1): ConvBnRelu(\n",
       "      (conv): Conv2d(16, 16, kernel_size=(3, 3), stride=(1, 1))\n",
       "      (bn): BatchNorm2d(16, eps=1e-05, momentum=0.1, affine=True, track_running_stats=True)\n",
       "    )\n",
       "    (2): ConvBnRelu(\n",
       "      (conv): Conv2d(16, 16, kernel_size=(3, 3), stride=(1, 1))\n",
       "      (bn): BatchNorm2d(16, eps=1e-05, momentum=0.1, affine=True, track_running_stats=True)\n",
       "    )\n",
       "    (3): ConvBnRelu(\n",
       "      (conv): Conv2d(16, 16, kernel_size=(3, 3), stride=(1, 1))\n",
       "      (bn): BatchNorm2d(16, eps=1e-05, momentum=0.1, affine=True, track_running_stats=True)\n",
       "    )\n",
       "    (4): ConvBnRelu(\n",
       "      (conv): Conv2d(16, 16, kernel_size=(3, 3), stride=(1, 1))\n",
       "      (bn): BatchNorm2d(16, eps=1e-05, momentum=0.1, affine=True, track_running_stats=True)\n",
       "    )\n",
       "  )\n",
       "  (flatten): Flatten(start_dim=1, end_dim=-1)\n",
       "  (out_layer): Linear(in_features=256, out_features=3, bias=True)\n",
       ")"
      ]
     },
     "execution_count": 37,
     "metadata": {},
     "output_type": "execute_result"
    }
   ],
   "source": [
    "model = Model()\n",
    "model"
   ]
  },
  {
   "cell_type": "markdown",
   "id": "cea91c96",
   "metadata": {},
   "source": [
    "Проверим, что наша модель работает"
   ]
  },
  {
   "cell_type": "code",
   "execution_count": 38,
   "id": "593ef412",
   "metadata": {},
   "outputs": [
    {
     "name": "stdout",
     "output_type": "stream",
     "text": [
      "torch.Size([1, 256])\n"
     ]
    },
    {
     "data": {
      "text/plain": [
       "tensor([[0.6587, 0.4338, 0.2949]], grad_fn=<SigmoidBackward>)"
      ]
     },
     "execution_count": 38,
     "metadata": {},
     "output_type": "execute_result"
    }
   ],
   "source": [
    "# Входной тензор имеет размерности\n",
    "# [N, C, H, W] \n",
    "# N - размер батча\n",
    "# C - количество каналов\n",
    "# H, W - размеры изображения\n",
    "model(torch.rand(1, 3, 16, 16))  "
   ]
  },
  {
   "cell_type": "markdown",
   "id": "24e80b2e",
   "metadata": {},
   "source": [
    "# Работа с данными"
   ]
  },
  {
   "cell_type": "markdown",
   "id": "407aed40",
   "metadata": {},
   "source": [
    "## Собственный набор данных\n",
    "\n",
    "Для работы с собственными наборами данных pytorch предлагает реализовать один из двух классов: `Dataset` или `IterableDataset`.\n",
    "Хорошо и подробно работу с данными классами описали в документации `pytorch`.\n",
    "\n",
    "* https://pytorch.org/tutorials/beginner/basics/data_tutorial.html\n",
    "* https://pytorch.org/docs/stable/data.html\n",
    "* https://pytorch.org/tutorials/beginner/data_loading_tutorial.html\n",
    "\n",
    "Если говорить о различиях данных классов - то `Dataset` можно использовать в случаях, когда весь набор данных имеет фиксированный размер, а `IterableDataset` в случаях когда набор данных можно представить в виде бесконечного потока данных (например данные генерируются на лету).\n",
    "\n",
    "Так как наш набор данных имеет фиксированный размер - мы можем реализовать класс `Dataset`.\n",
    "\n",
    "*C классом `IterableDataset` нужно быть аккуратным, т.к. его использование может привести к большому расходу оперативной памяти*\n",
    "\n",
    "Для того что бы создать свой класс `Dataset` необходимо реализовать два метода - <code>\\_\\_len\\_\\_</code> и <code>\\_\\_getitem\\_\\_</code>"
   ]
  },
  {
   "cell_type": "code",
   "execution_count": 39,
   "id": "ed00f292",
   "metadata": {},
   "outputs": [],
   "source": [
    "class RandomDataset(torch.utils.data.Dataset):\n",
    "    def __init__(self, n_features: int = 2, n_samples: int = 100):\n",
    "        self.n_classes = 3\n",
    "        self.n_samples = n_samples\n",
    "        self.n_features = n_features\n",
    "        self.x_data, self.y_data = None, None\n",
    "        self._generate_data()\n",
    "\n",
    "    def _generate_data(self):\n",
    "        X1 = np.random.randn(self.n_samples, self.n_features) + np.array([0, 2])\n",
    "        X2 = np.random.randn(self.n_samples, self.n_features) + np.array([-2, 2])\n",
    "        X3 = np.random.randn(self.n_samples, self.n_features) + np.array([-2, 0])\n",
    "        self.x_data = np.vstack([X1, X2, X3]).astype(np.float32)\n",
    "\n",
    "        self.y_data = np.array([0] * self.n_samples + [1] * self.n_samples + [2] * self.n_samples)\n",
    "        self.y_data = np.array(self.y_data, dtype=np.int64)\n",
    "        \n",
    "    def __len__(self):\n",
    "        return len(self.y_data)\n",
    "\n",
    "    def __getitem__(self, idx):\n",
    "        return self.x_data[idx], self.y_data[idx]"
   ]
  },
  {
   "cell_type": "markdown",
   "id": "ad37e5b8",
   "metadata": {},
   "source": [
    "## Набор данных из torchvision"
   ]
  },
  {
   "cell_type": "markdown",
   "id": "bfa17c9d",
   "metadata": {},
   "source": [
    "`pytorch` предоставляет большие возможности по работе с данным: чтение, аугментация, параллельные загрузчики и прочее. (часть из этого функционала представляет [`torchvision`]((https://pytorch.org/vision/stable/index.html)))\n",
    "\n",
    "Далее для демонстрации воспользуемся набором данных [FashionMNIST](https://github.com/zalandoresearch/fashion-mnist), он также доступен из `pytorch`, а именно из его дополнительной библиотеки [`pytorchvision`](https://pytorch.org/vision/stable/index.html)\n",
    "\n",
    "Наборы данных из `torchvision.datasets` можно использовать сразу, т.е. они уже реализуют класс `Dataset`"
   ]
  },
  {
   "cell_type": "code",
   "execution_count": 40,
   "id": "227cf97a",
   "metadata": {},
   "outputs": [],
   "source": [
    "dataset = torchvision.datasets.FashionMNIST(root='./data', download=True)"
   ]
  },
  {
   "cell_type": "code",
   "execution_count": 41,
   "id": "11bd229c",
   "metadata": {
    "scrolled": true
   },
   "outputs": [
    {
     "data": {
      "image/png": "[encoded data removed]",
      "text/plain": [
       "<PIL.Image.Image image mode=L size=28x28 at 0x7EFFE905A970>"
      ]
     },
     "metadata": {},
     "output_type": "display_data"
    }
   ],
   "source": [
    "# Каждый элемент набора данных - это кортеж (изображение, метка)\n",
    "# Изображение - класс PIL.Image\n",
    "img, label = dataset[1]  \n",
    "img.show()  # У него есть метод show() "
   ]
  },
  {
   "cell_type": "markdown",
   "id": "32a4318e",
   "metadata": {},
   "source": [
    "### Аугментация данных\n",
    "\n",
    "Аугментация данных важный шаг при работе с нейронными сетями. Данный шаг позволяет искусственно улучшить разнообразие данных, что положительно сказывается на обобщающей способности нейронных сетей. \n",
    "\n",
    "Для аугментации данных в `torchvision` есть ряд реализованных классов. Для того чтобы создать последовательность функий выполняющих аугментацию данных можно использовать обертку `torchvision.transforms.Compose`"
   ]
  },
  {
   "cell_type": "code",
   "execution_count": 42,
   "id": "dedee8e6",
   "metadata": {},
   "outputs": [],
   "source": [
    "from torchvision import transforms"
   ]
  },
  {
   "cell_type": "code",
   "execution_count": 43,
   "id": "217fc9ba",
   "metadata": {},
   "outputs": [],
   "source": [
    "augmentation = transforms.Compose([\n",
    "    transforms.RandomRotation((-30, 30)),\n",
    "    transforms.ToTensor(),\n",
    "    transforms.Normalize((0.5,), (0.5,))\n",
    "])"
   ]
  },
  {
   "cell_type": "markdown",
   "id": "fdfacc4c",
   "metadata": {},
   "source": [
    "**Будьте очень внимательны с методом ToTensor(), у него есть side-effects, он не только преобразует данные в тип torch.tensor, но еще и переставляет каналы и производит нормировку**\n",
    "\n",
    "https://pytorch.org/vision/main/generated/torchvision.transforms.ToTensor.html"
   ]
  },
  {
   "cell_type": "code",
   "execution_count": 44,
   "id": "872f71ce",
   "metadata": {},
   "outputs": [],
   "source": [
    "dataset = torchvision.datasets.FashionMNIST(\n",
    "    root='./data', \n",
    "    download=False, \n",
    "    train=True,\n",
    "    transform=augmentation\n",
    ")"
   ]
  },
  {
   "cell_type": "markdown",
   "id": "f82990bb",
   "metadata": {},
   "source": [
    "### DataLoader\n",
    "`DataLoader` это класс, который \"передаёт\" данные в нейронную сеть. Он позволяет формировать минибатчи данных (причем параллельно). Чаще всего именно из-за этапа подготовки данных нейронные сети обучаются медленно, поэтому важно уметь правильно работать с данным классом. "
   ]
  },
  {
   "cell_type": "code",
   "execution_count": 45,
   "id": "4fa8b02a",
   "metadata": {},
   "outputs": [],
   "source": [
    "dataloader = torch.utils.data.DataLoader(dataset, batch_size=1)"
   ]
  },
  {
   "cell_type": "code",
   "execution_count": 46,
   "id": "ed380981",
   "metadata": {},
   "outputs": [
    {
     "data": {
      "text/plain": [
       "[tensor([[[[-1.0000, -1.0000, -1.0000, -1.0000, -1.0000, -1.0000, -1.0000,\n",
       "            -1.0000, -1.0000, -1.0000, -1.0000, -1.0000, -1.0000, -1.0000,\n",
       "            -1.0000, -1.0000, -1.0000, -1.0000, -1.0000, -1.0000, -1.0000,\n",
       "            -1.0000, -1.0000, -1.0000, -1.0000, -1.0000, -1.0000, -1.0000],\n",
       "           [-1.0000, -1.0000, -1.0000, -1.0000, -1.0000, -1.0000, -1.0000,\n",
       "            -1.0000, -1.0000, -1.0000, -1.0000, -1.0000, -1.0000, -1.0000,\n",
       "            -1.0000, -1.0000, -1.0000, -1.0000, -1.0000, -1.0000, -1.0000,\n",
       "            -1.0000, -1.0000, -1.0000, -1.0000, -1.0000, -1.0000, -1.0000],\n",
       "           [-1.0000, -1.0000, -1.0000, -1.0000, -1.0000, -1.0000, -1.0000,\n",
       "            -1.0000, -1.0000, -1.0000, -1.0000, -1.0000, -1.0000, -1.0000,\n",
       "            -1.0000, -1.0000, -1.0000, -1.0000, -1.0000, -1.0000, -1.0000,\n",
       "            -1.0000, -1.0000, -1.0000, -1.0000, -1.0000, -1.0000, -1.0000],\n",
       "           [-1.0000, -1.0000, -1.0000, -1.0000, -1.0000, -1.0000, -1.0000,\n",
       "            -1.0000, -1.0000, -1.0000, -1.0000, -1.0000, -1.0000, -1.0000,\n",
       "            -0.9922, -1.0000, -1.0000, -0.8980, -1.0000, -1.0000, -1.0000,\n",
       "            -1.0000, -1.0000, -1.0000, -1.0000, -1.0000, -1.0000, -1.0000],\n",
       "           [-1.0000, -1.0000, -1.0000, -1.0000, -1.0000, -1.0000, -1.0000,\n",
       "            -1.0000, -1.0000, -1.0000, -1.0000, -1.0000, -1.0000, -1.0000,\n",
       "            -0.9765, -1.0000, -0.7176,  0.0667, -0.4275, -1.0000, -1.0000,\n",
       "            -0.9922, -0.9686, -1.0000, -1.0000, -1.0000, -1.0000, -1.0000],\n",
       "           [-1.0000, -1.0000, -1.0000, -1.0000, -1.0000, -1.0000, -1.0000,\n",
       "            -1.0000, -1.0000, -1.0000, -1.0000, -1.0000, -1.0000, -0.9529,\n",
       "            -1.0000, -0.2000,  0.6000,  0.3804, -0.5137, -0.5765, -1.0000,\n",
       "            -1.0000, -1.0000, -1.0000, -1.0000, -1.0000, -1.0000, -0.9922],\n",
       "           [-1.0000, -1.0000, -1.0000, -1.0000, -1.0000, -1.0000, -1.0000,\n",
       "            -1.0000, -1.0000, -1.0000, -1.0000, -1.0000, -1.0000, -1.0000,\n",
       "            -1.0000,  0.2157,  0.8510,  0.6235,  0.0510,  0.1294, -0.0353,\n",
       "            -0.8196, -1.0000, -1.0000, -0.9765, -0.9686, -1.0000, -1.0000],\n",
       "           [-1.0000, -1.0000, -1.0000, -1.0000, -1.0000, -1.0000, -1.0000,\n",
       "            -1.0000, -1.0000, -1.0000, -0.9922, -1.0000, -0.9922, -1.0000,\n",
       "            -0.4588,  0.6235,  0.7490,  0.7098,  0.3961, -0.1608,  0.2235,\n",
       "             0.2627, -0.1451, -0.4980, -1.0000, -1.0000, -0.9059, -0.9216],\n",
       "           [-1.0000, -1.0000, -1.0000, -1.0000, -1.0000, -1.0000, -1.0000,\n",
       "            -1.0000, -1.0000, -1.0000, -1.0000, -0.9922, -0.9922, -1.0000,\n",
       "             0.5686,  0.8196,  0.8196,  0.8275,  0.6941,  0.6941,  0.2784,\n",
       "            -0.0039, -0.0510, -0.0431, -0.8196, -0.3961,  0.0196, -0.4353],\n",
       "           [-1.0000, -1.0000, -1.0000, -1.0000, -1.0000, -1.0000, -1.0000,\n",
       "            -1.0000, -1.0000, -1.0000, -1.0000, -1.0000, -1.0000, -1.0000,\n",
       "             0.4353,  0.7647,  0.6941,  0.8275,  0.7961,  0.7490,  0.7490,\n",
       "             0.6863,  0.6706,  0.2863,  0.1451,  0.1059, -0.3098,  0.3490],\n",
       "           [-1.0000, -1.0000, -1.0000, -1.0000, -1.0000, -1.0000, -1.0000,\n",
       "            -1.0000, -1.0000, -1.0000, -0.9922, -1.0000, -1.0000, -1.0000,\n",
       "             0.5137,  0.7882,  0.7098,  0.7490,  0.7882,  0.8431,  0.7804,\n",
       "             0.7569,  0.7412,  0.2863, -0.0039, -0.0353,  0.5373,  0.7961],\n",
       "           [-1.0000, -1.0000, -1.0000, -1.0000, -1.0000, -1.0000, -1.0000,\n",
       "            -1.0000, -1.0000, -1.0000, -0.9529, -1.0000, -0.9059,  0.7176,\n",
       "             0.7255,  0.6627,  0.7098,  0.5529,  0.4118,  0.6627,  0.6471,\n",
       "             0.6471,  0.6549,  0.7569,  0.7333,  0.7490,  0.9216,  0.3569],\n",
       "           [-1.0000, -1.0000, -0.9922, -0.9686, -0.9529, -1.0000, -1.0000,\n",
       "            -1.0000, -1.0000, -0.9686, -1.0000, -1.0000, -0.2235,  0.9137,\n",
       "             0.7412,  0.7255,  0.7098,  0.5059,  0.3255,  0.7804,  0.6314,\n",
       "             0.7098,  0.7569,  0.7490,  0.7255,  0.9059,  0.5843, -1.0000],\n",
       "           [-1.0000, -0.9765, -1.0000, -1.0000, -1.0000, -0.9451, -0.9843,\n",
       "            -1.0000, -1.0000, -1.0000, -1.0000, -1.0000, -0.5686,  0.8510,\n",
       "             0.7882,  0.8039,  0.7882,  0.5922,  0.5529,  0.7333,  0.6863,\n",
       "             0.6706,  0.7412,  0.6627,  0.7725,  0.5451,  0.6392, -0.5922],\n",
       "           [-1.0000, -1.0000, -1.0000, -1.0000, -0.8588, -1.0000, -1.0000,\n",
       "            -1.0000, -1.0000, -0.5137,  0.1373, -1.0000,  0.8588,  0.7725,\n",
       "             0.7020,  0.7490,  0.7412,  0.8824,  0.8196,  0.6706,  0.7098,\n",
       "             0.7490,  0.8353,  0.7255,  0.9216, -0.0667,  0.3098, -0.5608],\n",
       "           [-1.0000, -0.5529,  0.4667,  0.6314,  0.7569, -0.6549, -0.3569,\n",
       "            -0.1608,  0.4824,  0.7882,  0.7255,  0.6000,  0.7882,  0.6235,\n",
       "             0.6706,  0.7333,  0.7098,  0.7176,  0.7412,  0.7333,  0.6941,\n",
       "             0.7490,  0.7961,  0.7020,  0.7020,  0.6392, -0.2784, -1.0000],\n",
       "           [ 0.5843,  0.7882,  0.7569,  0.7333,  0.6549,  0.7569,  0.6314,\n",
       "             0.6314,  0.6000,  0.6784,  0.6314,  0.7412,  0.7020,  0.7725,\n",
       "             0.5686,  0.6078,  0.6549,  0.6314,  0.6549,  0.7098,  0.7569,\n",
       "             0.7490,  0.7176,  0.6863,  0.7098,  1.0000, -0.3961, -1.0000],\n",
       "           [ 0.8275,  0.5529,  0.6471,  0.7412,  0.7961,  0.6549,  0.6784,\n",
       "             0.6078,  0.6078,  0.6078,  0.7255,  0.5686,  0.2471,  0.9216,\n",
       "             0.5137,  0.6157,  0.7490,  0.7569,  0.8353,  0.8353,  0.3804,\n",
       "             0.4745,  0.9608,  0.6863,  0.7569,  0.9137,  0.2471, -1.0000],\n",
       "           [ 0.6000,  0.6627,  0.6000,  0.5137,  0.7961,  0.7961,  0.8353,\n",
       "             0.9529,  0.7255,  0.5216,  0.6863,  0.8824, -0.3725,  0.1765,\n",
       "             1.0000,  0.7961,  0.7333,  1.0000,  1.0000,  0.7333,  0.8353,\n",
       "             0.7333,  0.6549,  0.8275,  0.8667,  0.6863, -1.0000, -1.0000],\n",
       "           [ 0.5922,  0.4353,  0.5216,  0.6706,  0.6078,  0.6549,  0.7647,\n",
       "             0.6941,  0.4510,  0.5451,  0.6863,  0.7020,  0.8902, -0.4902,\n",
       "            -0.4275, -0.1686, -0.0824,  0.4745,  0.2078,  0.4980,  0.6471,\n",
       "             0.6000,  0.6392,  0.7255,  0.8196,  0.9294, -1.0000, -1.0000],\n",
       "           [-0.0431,  0.7176,  0.5137,  0.4039,  0.5451,  0.4510,  0.4902,\n",
       "             0.5216,  0.5059,  0.5843,  0.6157,  0.5529,  0.6706,  0.8824,\n",
       "             0.5294,  0.7804,  0.9216,  0.3176,  0.7176,  0.7333,  0.6863,\n",
       "             0.7020,  0.7490,  0.7412,  0.7882,  0.7647, -1.0000, -1.0000],\n",
       "           [-1.0000, -0.4196,  0.4824,  0.6627,  0.3412,  0.4353,  0.5373,\n",
       "             0.6000,  0.6471,  0.6706,  0.6784,  0.7176,  0.7333,  0.7255,\n",
       "             0.8510,  0.7647,  0.9216,  0.8745,  0.7490,  0.7098,  0.6627,\n",
       "             0.6392,  0.7412,  0.7490,  0.7569,  0.7961, -0.7725, -1.0000],\n",
       "           [-1.0000, -1.0000, -0.4824,  0.5686,  0.3725,  0.3490,  0.3490,\n",
       "             0.3725,  0.4196,  0.4510,  0.6235,  0.6549,  0.6471,  0.5686,\n",
       "             0.5373,  0.5216,  0.6941,  0.5608,  0.6157,  0.4588,  0.4196,\n",
       "             0.3882,  0.7412,  0.7255,  0.7333,  0.8039, -0.4745, -1.0000],\n",
       "           [-1.0000, -1.0000, -1.0000, -1.0000,  0.7412,  0.8588,  0.8745,\n",
       "             0.8980,  0.9294,  0.9059,  0.4824,  0.4745,  0.5137,  0.5529,\n",
       "             0.6000,  0.6392,  0.5294,  0.4980,  0.4980,  0.5529,  0.5059,\n",
       "             0.3804,  0.3490,  0.4196,  0.6078,  0.6157, -0.0980, -1.0000],\n",
       "           [-1.0000, -1.0000, -1.0000, -1.0000, -1.0000, -0.6863, -0.5216,\n",
       "            -0.6549, -0.4353, -0.6784,  0.9137,  0.7333,  0.7255,  0.5137,\n",
       "             0.4980,  0.4039,  0.6471,  0.6471,  0.6549,  0.4745,  0.4745,\n",
       "             0.5216,  0.3098,  0.3882,  0.6471, -0.2784, -1.0000, -1.0000],\n",
       "           [-1.0000, -1.0000, -1.0000, -1.0000, -1.0000, -1.0000, -1.0000,\n",
       "            -1.0000, -1.0000, -1.0000, -0.7255, -1.0000, -1.0000, -1.0000,\n",
       "            -1.0000, -1.0000,  0.4275,  0.4275,  0.4196,  0.3804,  0.3020,\n",
       "             0.3176,  0.5059,  0.6941,  0.3333, -1.0000, -1.0000, -1.0000],\n",
       "           [-1.0000, -1.0000, -1.0000, -1.0000, -1.0000, -1.0000, -1.0000,\n",
       "            -1.0000, -1.0000, -1.0000, -1.0000, -1.0000, -1.0000, -1.0000,\n",
       "            -1.0000, -1.0000, -1.0000, -1.0000, -1.0000, -1.0000, -1.0000,\n",
       "            -1.0000, -0.2235, -0.5451, -1.0000, -1.0000, -1.0000, -1.0000],\n",
       "           [-1.0000, -1.0000, -1.0000, -1.0000, -1.0000, -1.0000, -1.0000,\n",
       "            -1.0000, -1.0000, -1.0000, -1.0000, -1.0000, -1.0000, -1.0000,\n",
       "            -1.0000, -1.0000, -1.0000, -1.0000, -1.0000, -1.0000, -1.0000,\n",
       "            -1.0000, -1.0000, -1.0000, -1.0000, -1.0000, -1.0000, -1.0000]]]]),\n",
       " tensor([9])]"
      ]
     },
     "execution_count": 46,
     "metadata": {},
     "output_type": "execute_result"
    }
   ],
   "source": [
    "# проверим что он работает\n",
    "test = next(iter(dataloader))\n",
    "test"
   ]
  },
  {
   "cell_type": "code",
   "execution_count": 47,
   "id": "7a245116",
   "metadata": {},
   "outputs": [
    {
     "data": {
      "text/plain": [
       "torch.Size([1, 28, 28])"
      ]
     },
     "execution_count": 47,
     "metadata": {},
     "output_type": "execute_result"
    }
   ],
   "source": [
    "test[0][0].shape"
   ]
  },
  {
   "cell_type": "code",
   "execution_count": 48,
   "id": "659be8c6",
   "metadata": {},
   "outputs": [
    {
     "data": {
      "text/plain": [
       "<matplotlib.image.AxesImage at 0x7f003aaf0820>"
      ]
     },
     "execution_count": 48,
     "metadata": {},
     "output_type": "execute_result"
    },
    {
     "data": {
      "image/png": "[encoded data removed]",
      "text/plain": [
       "<Figure size 432x288 with 1 Axes>"
      ]
     },
     "metadata": {
      "needs_background": "light"
     },
     "output_type": "display_data"
    }
   ],
   "source": [
    "plt.imshow(test[0][0, 0].numpy())"
   ]
  },
  {
   "cell_type": "code",
   "execution_count": 49,
   "id": "b9f0ed74",
   "metadata": {},
   "outputs": [
    {
     "data": {
      "text/plain": [
       "1.0"
      ]
     },
     "execution_count": 49,
     "metadata": {},
     "output_type": "execute_result"
    }
   ],
   "source": [
    "test[0][0, 0].numpy().max()"
   ]
  },
  {
   "cell_type": "markdown",
   "id": "28ec4214",
   "metadata": {},
   "source": [
    "## Тренировочный цикл\n",
    "К сожалению, из коробки в `pytorch` нет никаких классов или методов, позволяющих сразу начать обучение нейронной сети. Существует необходимость самостоятельно писать тренировочный цикл."
   ]
  },
  {
   "cell_type": "code",
   "execution_count": 50,
   "id": "f0e14e2f",
   "metadata": {},
   "outputs": [],
   "source": [
    "import datetime\n",
    "from tqdm import tqdm\n",
    "\n",
    "def training_loop(n_epochs, optimizer, model, loss_fn, dataloader):\n",
    "    for epoch in range(1, n_epochs + 1):\n",
    "        loss_train = 0.0\n",
    "        model.train()\n",
    "        for X, y in tqdm(dataloader):\n",
    "            # Перенесём данные на выбранное устройство (в нашем случае на GPU)\n",
    "            X = X.to(device=device)\n",
    "            y = y.to(device=device)\n",
    "            \n",
    "            # Очистим значения градиентов\n",
    "            optimizer.zero_grad()\n",
    "            pred = model(X)\n",
    "            loss = loss_fn(pred, y)\n",
    "            \n",
    "            # Вычисление градиентов\n",
    "            loss.backward()\n",
    "            # Данный метод выполняет изменение параметров модели \n",
    "            optimizer.step()\n",
    "\n",
    "            loss_train += loss.item()\n",
    "        \n",
    "        # Тестирование модели\n",
    "        if epoch == 1 or epoch % 2 == 0:\n",
    "            model.eval()\n",
    "            with torch.no_grad():\n",
    "                size = len(dataloader.dataset)\n",
    "                correct = 0\n",
    "                for X, y in dataloader:\n",
    "                    X = X.to(device=device)\n",
    "                    y = y.to(device=device)\n",
    "                    pred = model(X)\n",
    "                    correct += (pred.argmax(dim=1) == y).type(torch.float).sum().item()\n",
    "                acc = correct / size\n",
    "\n",
    "            print('{} Epoch {}, Training loss {}, Accuracy {}'.format(\n",
    "                datetime.datetime.now(), epoch,\n",
    "                loss_train / len(dataloader), acc))"
   ]
  },
  {
   "cell_type": "markdown",
   "id": "d6ed99ea",
   "metadata": {},
   "source": [
    "## Функция ошибки, оптимизатор, предобученные модели и запуск обучения"
   ]
  },
  {
   "cell_type": "markdown",
   "id": "2e16cd95",
   "metadata": {},
   "source": [
    "Наиболее популярные функции ошибок реализованы в `pytorch`. В случае острой необходимости использовать функцию ошибки, которой нет в составе `pytorch`, не составляет никаких проблем реализовать её, либо что еще проще - найти реализацию на *github*, не зря `pytorch` один из самых популярных фреймворков.\n",
    "\n",
    "Например, в следующем репозитории находится большое количество реализованных функций ошибок, которых нет в `pytorch`\n",
    "https://github.com/CoinCheung/pytorch-loss"
   ]
  },
  {
   "cell_type": "code",
   "execution_count": 51,
   "id": "d2321e09",
   "metadata": {},
   "outputs": [],
   "source": [
    "loss_fn = nn.CrossEntropyLoss()"
   ]
  },
  {
   "cell_type": "markdown",
   "id": "0d7e82f7",
   "metadata": {},
   "source": [
    "Не забудем про данные"
   ]
  },
  {
   "cell_type": "code",
   "execution_count": 52,
   "id": "553ff10c",
   "metadata": {},
   "outputs": [],
   "source": [
    "dataloader = torch.utils.data.DataLoader(dataset, batch_size=1024, shuffle=True, num_workers=4)"
   ]
  },
  {
   "cell_type": "markdown",
   "id": "c455032f",
   "metadata": {},
   "source": [
    "Для проверки того, что всё работает воспользуемся моделью Resnet-18, которая доступна в `torchvision`. К сожалению, интерфейс метода, возвращающего модель resnet18, не предусматривает изменение конфигурации сети. Данные сети обучались на наборе данных ImageNet и принимали на вход трехканальные (RGB) изображения. Однако в нашем случае мы имеем дело с изображениями в градациях серого (gray-scale изображения). Для того чтобы иметь возможность работать с такими изображениями заменим первый слой. Кроме того, необходимо заменить и последний слой сети, т.к. он расчитан на 1000 классов, когда в нашем случае мы работает с 10."
   ]
  },
  {
   "cell_type": "markdown",
   "id": "444c3aac",
   "metadata": {},
   "source": [
    "```python\n",
    ">>> torchvision.models.resnet18(pretrained=False)\n",
    "<<< ResNet(\n",
    "  (conv1): Conv2d(3, 64, kernel_size=(7, 7), stride=(2, 2), padding=(3, 3), bias=False)\n",
    "  (bn1): BatchNorm2d(64, eps=1e-05, momentum=0.1, affine=True, track_running_stats=True)\n",
    "  (relu): ReLU(inplace=True)\n",
    "    ....\n",
    "  (avgpool): AdaptiveAvgPool2d(output_size=(1, 1))\n",
    "  (fc): Linear(in_features=512, out_features=1000, bias=True)\n",
    ")\n",
    "```\n"
   ]
  },
  {
   "cell_type": "code",
   "execution_count": 53,
   "id": "26a22295",
   "metadata": {
    "scrolled": true
   },
   "outputs": [
    {
     "data": {
      "text/plain": [
       "ResNet(\n",
       "  (conv1): Conv2d(3, 64, kernel_size=(7, 7), stride=(2, 2), padding=(3, 3), bias=False)\n",
       "  (bn1): BatchNorm2d(64, eps=1e-05, momentum=0.1, affine=True, track_running_stats=True)\n",
       "  (relu): ReLU(inplace=True)\n",
       "  (maxpool): MaxPool2d(kernel_size=3, stride=2, padding=1, dilation=1, ceil_mode=False)\n",
       "  (layer1): Sequential(\n",
       "    (0): BasicBlock(\n",
       "      (conv1): Conv2d(64, 64, kernel_size=(3, 3), stride=(1, 1), padding=(1, 1), bias=False)\n",
       "      (bn1): BatchNorm2d(64, eps=1e-05, momentum=0.1, affine=True, track_running_stats=True)\n",
       "      (relu): ReLU(inplace=True)\n",
       "      (conv2): Conv2d(64, 64, kernel_size=(3, 3), stride=(1, 1), padding=(1, 1), bias=False)\n",
       "      (bn2): BatchNorm2d(64, eps=1e-05, momentum=0.1, affine=True, track_running_stats=True)\n",
       "    )\n",
       "    (1): BasicBlock(\n",
       "      (conv1): Conv2d(64, 64, kernel_size=(3, 3), stride=(1, 1), padding=(1, 1), bias=False)\n",
       "      (bn1): BatchNorm2d(64, eps=1e-05, momentum=0.1, affine=True, track_running_stats=True)\n",
       "      (relu): ReLU(inplace=True)\n",
       "      (conv2): Conv2d(64, 64, kernel_size=(3, 3), stride=(1, 1), padding=(1, 1), bias=False)\n",
       "      (bn2): BatchNorm2d(64, eps=1e-05, momentum=0.1, affine=True, track_running_stats=True)\n",
       "    )\n",
       "  )\n",
       "  (layer2): Sequential(\n",
       "    (0): BasicBlock(\n",
       "      (conv1): Conv2d(64, 128, kernel_size=(3, 3), stride=(2, 2), padding=(1, 1), bias=False)\n",
       "      (bn1): BatchNorm2d(128, eps=1e-05, momentum=0.1, affine=True, track_running_stats=True)\n",
       "      (relu): ReLU(inplace=True)\n",
       "      (conv2): Conv2d(128, 128, kernel_size=(3, 3), stride=(1, 1), padding=(1, 1), bias=False)\n",
       "      (bn2): BatchNorm2d(128, eps=1e-05, momentum=0.1, affine=True, track_running_stats=True)\n",
       "      (downsample): Sequential(\n",
       "        (0): Conv2d(64, 128, kernel_size=(1, 1), stride=(2, 2), bias=False)\n",
       "        (1): BatchNorm2d(128, eps=1e-05, momentum=0.1, affine=True, track_running_stats=True)\n",
       "      )\n",
       "    )\n",
       "    (1): BasicBlock(\n",
       "      (conv1): Conv2d(128, 128, kernel_size=(3, 3), stride=(1, 1), padding=(1, 1), bias=False)\n",
       "      (bn1): BatchNorm2d(128, eps=1e-05, momentum=0.1, affine=True, track_running_stats=True)\n",
       "      (relu): ReLU(inplace=True)\n",
       "      (conv2): Conv2d(128, 128, kernel_size=(3, 3), stride=(1, 1), padding=(1, 1), bias=False)\n",
       "      (bn2): BatchNorm2d(128, eps=1e-05, momentum=0.1, affine=True, track_running_stats=True)\n",
       "    )\n",
       "  )\n",
       "  (layer3): Sequential(\n",
       "    (0): BasicBlock(\n",
       "      (conv1): Conv2d(128, 256, kernel_size=(3, 3), stride=(2, 2), padding=(1, 1), bias=False)\n",
       "      (bn1): BatchNorm2d(256, eps=1e-05, momentum=0.1, affine=True, track_running_stats=True)\n",
       "      (relu): ReLU(inplace=True)\n",
       "      (conv2): Conv2d(256, 256, kernel_size=(3, 3), stride=(1, 1), padding=(1, 1), bias=False)\n",
       "      (bn2): BatchNorm2d(256, eps=1e-05, momentum=0.1, affine=True, track_running_stats=True)\n",
       "      (downsample): Sequential(\n",
       "        (0): Conv2d(128, 256, kernel_size=(1, 1), stride=(2, 2), bias=False)\n",
       "        (1): BatchNorm2d(256, eps=1e-05, momentum=0.1, affine=True, track_running_stats=True)\n",
       "      )\n",
       "    )\n",
       "    (1): BasicBlock(\n",
       "      (conv1): Conv2d(256, 256, kernel_size=(3, 3), stride=(1, 1), padding=(1, 1), bias=False)\n",
       "      (bn1): BatchNorm2d(256, eps=1e-05, momentum=0.1, affine=True, track_running_stats=True)\n",
       "      (relu): ReLU(inplace=True)\n",
       "      (conv2): Conv2d(256, 256, kernel_size=(3, 3), stride=(1, 1), padding=(1, 1), bias=False)\n",
       "      (bn2): BatchNorm2d(256, eps=1e-05, momentum=0.1, affine=True, track_running_stats=True)\n",
       "    )\n",
       "  )\n",
       "  (layer4): Sequential(\n",
       "    (0): BasicBlock(\n",
       "      (conv1): Conv2d(256, 512, kernel_size=(3, 3), stride=(2, 2), padding=(1, 1), bias=False)\n",
       "      (bn1): BatchNorm2d(512, eps=1e-05, momentum=0.1, affine=True, track_running_stats=True)\n",
       "      (relu): ReLU(inplace=True)\n",
       "      (conv2): Conv2d(512, 512, kernel_size=(3, 3), stride=(1, 1), padding=(1, 1), bias=False)\n",
       "      (bn2): BatchNorm2d(512, eps=1e-05, momentum=0.1, affine=True, track_running_stats=True)\n",
       "      (downsample): Sequential(\n",
       "        (0): Conv2d(256, 512, kernel_size=(1, 1), stride=(2, 2), bias=False)\n",
       "        (1): BatchNorm2d(512, eps=1e-05, momentum=0.1, affine=True, track_running_stats=True)\n",
       "      )\n",
       "    )\n",
       "    (1): BasicBlock(\n",
       "      (conv1): Conv2d(512, 512, kernel_size=(3, 3), stride=(1, 1), padding=(1, 1), bias=False)\n",
       "      (bn1): BatchNorm2d(512, eps=1e-05, momentum=0.1, affine=True, track_running_stats=True)\n",
       "      (relu): ReLU(inplace=True)\n",
       "      (conv2): Conv2d(512, 512, kernel_size=(3, 3), stride=(1, 1), padding=(1, 1), bias=False)\n",
       "      (bn2): BatchNorm2d(512, eps=1e-05, momentum=0.1, affine=True, track_running_stats=True)\n",
       "    )\n",
       "  )\n",
       "  (avgpool): AdaptiveAvgPool2d(output_size=(1, 1))\n",
       "  (fc): Linear(in_features=512, out_features=1000, bias=True)\n",
       ")"
      ]
     },
     "execution_count": 53,
     "metadata": {},
     "output_type": "execute_result"
    }
   ],
   "source": [
    "torchvision.models.resnet18(pretrained=False)"
   ]
  },
  {
   "cell_type": "code",
   "execution_count": 54,
   "id": "99eaf6dc",
   "metadata": {},
   "outputs": [],
   "source": [
    "class Resnet18(nn.Module):\n",
    "    def __init__(self, n_channels: int = 1, n_classes: int = 10):\n",
    "        super().__init__()\n",
    "        self.resnet = torchvision.models.resnet18(pretrained=False)\n",
    "        # Заменим первую свертку\n",
    "        self.resnet.conv1 = nn.Conv2d(in_channels=n_channels, out_channels=64, kernel_size=7, stride=2, padding=3, bias=False)\n",
    "        # Заменим последний слой\n",
    "        self.resnet.fc = nn.Linear(in_features=self.resnet.fc.in_features, out_features=n_classes)\n",
    "    \n",
    "    def forward(self, x):\n",
    "        hx = self.resnet(x)\n",
    "        return hx\n"
   ]
  },
  {
   "cell_type": "code",
   "execution_count": 55,
   "id": "657a6a23",
   "metadata": {},
   "outputs": [
    {
     "data": {
      "text/plain": [
       "tensor([[-0.4720,  0.6760, -0.0365, -0.7455, -1.2141, -0.2653, -0.9146, -0.3123,\n",
       "          0.7655,  0.7139],\n",
       "        [-0.8733,  0.8039,  0.0732, -0.2995, -0.4035, -0.3375, -0.4560, -0.4234,\n",
       "          0.8615,  0.0519]], grad_fn=<AddmmBackward>)"
      ]
     },
     "execution_count": 55,
     "metadata": {},
     "output_type": "execute_result"
    }
   ],
   "source": [
    "# Всё работает\n",
    "Resnet18()(torch.rand(2, 1, 32, 32))  # (N, C, H, W)"
   ]
  },
  {
   "cell_type": "code",
   "execution_count": 56,
   "id": "36a91057",
   "metadata": {},
   "outputs": [],
   "source": [
    "model = Resnet18().to(device)"
   ]
  },
  {
   "cell_type": "markdown",
   "id": "ff19e0a1",
   "metadata": {},
   "source": [
    "В `pytorch` реализованы все стандартные оптимизаторы градиентного спуска. Все они в качестве первого аргумента принимают обучаемые параметры модели"
   ]
  },
  {
   "cell_type": "code",
   "execution_count": 57,
   "id": "fbb8aebc",
   "metadata": {},
   "outputs": [],
   "source": [
    "optimizer = optim.Adam(model.parameters())"
   ]
  },
  {
   "cell_type": "markdown",
   "id": "954aec8d",
   "metadata": {},
   "source": [
    "Запустим обучение"
   ]
  },
  {
   "cell_type": "code",
   "execution_count": 58,
   "id": "3543bbf8",
   "metadata": {},
   "outputs": [
    {
     "name": "stderr",
     "output_type": "stream",
     "text": [
      "100%|██████████| 59/59 [00:06<00:00,  9.28it/s]\n",
      "  0%|          | 0/59 [00:00<?, ?it/s]"
     ]
    },
    {
     "name": "stdout",
     "output_type": "stream",
     "text": [
      "2022-02-18 10:26:30.824785 Epoch 1, Training loss 0.5999123060097129, Accuracy 0.8093833333333333\n"
     ]
    },
    {
     "name": "stderr",
     "output_type": "stream",
     "text": [
      "100%|██████████| 59/59 [00:04<00:00, 11.91it/s]\n",
      "  0%|          | 0/59 [00:00<?, ?it/s]"
     ]
    },
    {
     "name": "stdout",
     "output_type": "stream",
     "text": [
      "2022-02-18 10:26:38.416126 Epoch 2, Training loss 0.4060952921034926, Accuracy 0.8469333333333333\n"
     ]
    },
    {
     "name": "stderr",
     "output_type": "stream",
     "text": [
      "100%|██████████| 59/59 [00:04<00:00, 11.98it/s]\n",
      "100%|██████████| 59/59 [00:04<00:00, 11.94it/s]\n",
      "  0%|          | 0/59 [00:00<?, ?it/s]"
     ]
    },
    {
     "name": "stdout",
     "output_type": "stream",
     "text": [
      "2022-02-18 10:26:50.867078 Epoch 4, Training loss 0.3367523328732636, Accuracy 0.8700833333333333\n"
     ]
    },
    {
     "name": "stderr",
     "output_type": "stream",
     "text": [
      "100%|██████████| 59/59 [00:04<00:00, 11.89it/s]\n",
      "100%|██████████| 59/59 [00:04<00:00, 11.83it/s]\n",
      "  0%|          | 0/59 [00:00<?, ?it/s]"
     ]
    },
    {
     "name": "stdout",
     "output_type": "stream",
     "text": [
      "2022-02-18 10:27:03.469030 Epoch 6, Training loss 0.3045702253357839, Accuracy 0.8882333333333333\n"
     ]
    },
    {
     "name": "stderr",
     "output_type": "stream",
     "text": [
      "100%|██████████| 59/59 [00:05<00:00, 11.77it/s]\n",
      "100%|██████████| 59/59 [00:04<00:00, 11.81it/s]\n",
      "  0%|          | 0/59 [00:00<?, ?it/s]"
     ]
    },
    {
     "name": "stdout",
     "output_type": "stream",
     "text": [
      "2022-02-18 10:27:16.123141 Epoch 8, Training loss 0.280461324978683, Accuracy 0.888\n"
     ]
    },
    {
     "name": "stderr",
     "output_type": "stream",
     "text": [
      "100%|██████████| 59/59 [00:04<00:00, 11.83it/s]\n",
      "100%|██████████| 59/59 [00:05<00:00, 11.78it/s]\n",
      "  0%|          | 0/59 [00:00<?, ?it/s]"
     ]
    },
    {
     "name": "stdout",
     "output_type": "stream",
     "text": [
      "2022-02-18 10:27:28.742119 Epoch 10, Training loss 0.26689335754362203, Accuracy 0.8958333333333334\n"
     ]
    },
    {
     "name": "stderr",
     "output_type": "stream",
     "text": [
      "100%|██████████| 59/59 [00:05<00:00, 11.64it/s]\n",
      "100%|██████████| 59/59 [00:05<00:00, 11.71it/s]\n",
      "  0%|          | 0/59 [00:00<?, ?it/s]"
     ]
    },
    {
     "name": "stdout",
     "output_type": "stream",
     "text": [
      "2022-02-18 10:27:41.503847 Epoch 12, Training loss 0.2522923726651628, Accuracy 0.8923166666666666\n"
     ]
    },
    {
     "name": "stderr",
     "output_type": "stream",
     "text": [
      "100%|██████████| 59/59 [00:05<00:00, 11.75it/s]\n",
      "100%|██████████| 59/59 [00:05<00:00, 11.69it/s]\n",
      "  0%|          | 0/59 [00:00<?, ?it/s]"
     ]
    },
    {
     "name": "stdout",
     "output_type": "stream",
     "text": [
      "2022-02-18 10:27:54.201425 Epoch 14, Training loss 0.237063892059407, Accuracy 0.9082333333333333\n"
     ]
    },
    {
     "name": "stderr",
     "output_type": "stream",
     "text": [
      "100%|██████████| 59/59 [00:05<00:00, 11.72it/s]\n",
      "100%|██████████| 59/59 [00:05<00:00, 11.66it/s]\n",
      "  0%|          | 0/59 [00:00<?, ?it/s]"
     ]
    },
    {
     "name": "stdout",
     "output_type": "stream",
     "text": [
      "2022-02-18 10:28:06.941334 Epoch 16, Training loss 0.2283385012109401, Accuracy 0.9144666666666666\n"
     ]
    },
    {
     "name": "stderr",
     "output_type": "stream",
     "text": [
      "100%|██████████| 59/59 [00:05<00:00, 11.67it/s]\n",
      "100%|██████████| 59/59 [00:05<00:00, 11.60it/s]\n",
      "  0%|          | 0/59 [00:00<?, ?it/s]"
     ]
    },
    {
     "name": "stdout",
     "output_type": "stream",
     "text": [
      "2022-02-18 10:28:19.733618 Epoch 18, Training loss 0.21975408267166655, Accuracy 0.91275\n"
     ]
    },
    {
     "name": "stderr",
     "output_type": "stream",
     "text": [
      "100%|██████████| 59/59 [00:05<00:00, 11.60it/s]\n",
      "100%|██████████| 59/59 [00:05<00:00, 11.62it/s]\n"
     ]
    },
    {
     "name": "stdout",
     "output_type": "stream",
     "text": [
      "2022-02-18 10:28:32.506316 Epoch 20, Training loss 0.2147333185046406, Accuracy 0.91985\n"
     ]
    }
   ],
   "source": [
    "training_loop(\n",
    "    n_epochs = 20,\n",
    "    optimizer = optimizer,\n",
    "    model = model,\n",
    "    loss_fn = loss_fn,\n",
    "    dataloader = dataloader,\n",
    ")"
   ]
  },
  {
   "cell_type": "markdown",
   "id": "e6526f4d",
   "metadata": {},
   "source": [
    "Так мы смогли успешно обучить нейронную сеть, используя библиотеку `pytorch`. Теперь у вас есть все необходимые навыки для начала работы с ним.\n",
    "\n",
    "На данном этапе можно заметить, что мы каждый раз вручную писали собственный тренировочный цикл, это неудобно, особенно если каждый раз вручную его настраивать, добавлять этапы валидации, тестирования, вычисления метрик и логирования. Для того, чтобы упростить себе жизнь и ускорить проведение экспериментов - есть библиотека `pytorch_lightning`. О том, как применять данную библиотеку вы можете узнать из файла `pytorch_lightning_basics.ipynb`."
   ]
  },
  {
   "cell_type": "markdown",
   "id": "3c233593",
   "metadata": {},
   "source": [
    "# Преимущества и недостатки `pytorch`\n",
    "\n",
    "\\+ В настоящее время `pytorch` очень популярен в исследовательских задачах\n",
    "\n",
    "\\+ Прост в использовании и гибок\n",
    "\n",
    "\\+ Имеет большое сообщество\n",
    "\n",
    "---\n",
    "\n",
    "\\- Медленнее, чем другие библиотеки (например `Tensorflow`), однако при должных знаниях `pytorch` это исправимый недостаток.\n",
    "\n",
    "\\- Плохая документация (некоторые функции слабо задокументированы)\n",
    "\n",
    "\\- Плохое логирование ошибок (это связано с особенностями работы `pytorch`, для того чтобы видеть полный stack-trace ошибок необходимо установить значение переменной `CUDA_LAUNCH_BLOCKING=1`)\n"
   ]
  },
  {
   "cell_type": "code",
   "execution_count": null,
   "id": "5bbc237f",
   "metadata": {},
   "outputs": [],
   "source": []
  }
 ],
 "metadata": {
  "kernelspec": {
   "display_name": "Python 3",
   "language": "python",
   "name": "python3"
  },
  "language_info": {
   "codemirror_mode": {
    "name": "ipython",
    "version": 3
   },
   "file_extension": ".py",
   "mimetype": "text/x-python",
   "name": "python",
   "nbconvert_exporter": "python",
   "pygments_lexer": "ipython3",
   "version": "3.9.2"
  }
 },
 "nbformat": 4,
 "nbformat_minor": 5
}
