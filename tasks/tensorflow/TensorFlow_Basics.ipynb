{
 "cells": [
  {
   "cell_type": "markdown",
   "id": "progressive-antigua",
   "metadata": {},
   "source": [
    "# Что такое TensorFlow и где его используют?"
   ]
  },
  {
   "cell_type": "markdown",
   "id": "historic-washer",
   "metadata": {},
   "source": [
    "**TensorFlow - это библиотека машинного обучения, позволяющая обучать приозвольные модели глубокого обучения**: \n",
    "свёрточные нейронные сети, рекуррентные нейронные сети и прочие модели (вообще говоря, любые модели глубокого обучения). \n",
    "Однако **TensorFlow не ограничен только обучением нейронных сетей и может быть использован для решения любых математических \n",
    "задач**, где полезно утилизировать мощности GPU или же есть необходимость в автоматическом дифференцировании (вычисление \n",
    "производной).\n",
    "\n",
    "**TensorFlow имеет очень широкое сообщество.** Для TensorFlow уже написано туториалов, большое множество ML проектов используют именно TensorFlow, собраны целые библиотеки предобученных моделей. \n",
    "\n",
    "**TensorFlow отлично подходит как для научной деятельности, так и для бизнеса.** TensorFlow имеет целую экосистему инструментов:\n",
    "- [TensorFlow Lite](https://www.tensorflow.org/lite) - полезен при разработке и оптимизации моделей, что будут запускаться на мобильных девайсах.\n",
    "- [TensorFlow.js](https://www.tensorflow.org/js) - разработка моделей, запускаемых прямо в браузере.\n",
    "- [TensorFlow Extended](https://www.tensorflow.org/tfx) - набор инструментов для деплоинга моделей в виде бизнес решений.\n",
    "- [TensorFlow Hub](https://www.tensorflow.org/hub) - библиотека предобученных моделей (детекторы объектов, классификаторы и т.д.).\n",
    "\n",
    "Дабы не пугать новоприбывших, все вышеозвученные вещи знать необязательно. Чтобы эффективно использовать TensorFlow, достаточно лишь уметь пользоваться исходной библиотекой, это покроет 99% случаев. Остальное - вишенка на торте, упрощающая жизнь в сложных проектах."
   ]
  },
  {
   "cell_type": "markdown",
   "id": "exciting-burning",
   "metadata": {},
   "source": [
    "# Установка TensorFlow"
   ]
  },
  {
   "cell_type": "markdown",
   "id": "finnish-accommodation",
   "metadata": {},
   "source": [
    "**Готовый Docker образ:**\n",
    "```\n",
    "docker pull tensorflow/tensorflow:latest-gpu-jupyter\n",
    "docker run --rm -it --gpus all -p 8888:8888 tensorflow/tensorflow:latest-gpu-jupyter\n",
    "```\n",
    "Для корректного запуска данного контейнера на Windows необходима установка [NVIDIA Container Toolkit](https://github.com/NVIDIA/nvidia-docker).\n",
    "\n",
    "**Установка через pip:**\n",
    "\n",
    "TensorFlow 2.x требует Python версии 3.7 и выше.\n",
    "```\n",
    "pip install --upgrade pip\n",
    "pip install tensorflow\n",
    "```\n",
    "\n",
    "\n",
    "Официальная инструкция: \n",
    "https://www.tensorflow.org/install\n",
    "\n",
    "Дабы начать работу с TensorFlow прямо сейчас, можно воспользоваться Google Colab (он имеет предустановленный TF): \n",
    "https://colab.research.google.com/notebooks/welcome.ipynb"
   ]
  },
  {
   "cell_type": "code",
   "execution_count": 1,
   "id": "consolidated-citizen",
   "metadata": {},
   "outputs": [
    {
     "data": {
      "text/plain": [
       "'2.8.0'"
      ]
     },
     "execution_count": 1,
     "metadata": {},
     "output_type": "execute_result"
    }
   ],
   "source": [
    "import tensorflow as tf\n",
    "import numpy as np\n",
    "tf.__version__"
   ]
  },
  {
   "cell_type": "code",
   "execution_count": 2,
   "metadata": {},
   "outputs": [
    {
     "data": {
      "text/plain": [
       "[PhysicalDevice(name='/physical_device:CPU:0', device_type='CPU'),\n",
       " PhysicalDevice(name='/physical_device:GPU:0', device_type='GPU')]"
      ]
     },
     "execution_count": 2,
     "metadata": {},
     "output_type": "execute_result"
    }
   ],
   "source": [
    "tf.config.list_physical_devices()"
   ]
  },
  {
   "cell_type": "markdown",
   "id": "advisory-cocktail",
   "metadata": {},
   "source": [
    "## 1. Основы работы с тензорами"
   ]
  },
  {
   "cell_type": "markdown",
   "metadata": {},
   "source": [
    "### 1.1 Создание tf.Tensor"
   ]
  },
  {
   "cell_type": "markdown",
   "id": "bizarre-gossip",
   "metadata": {},
   "source": [
    "Подобно тензорам (np.ndarray) в Numpy, TensorFlow имеет собственные тензоры tf.Tensor для манипуляции над численными данными. Их можно создать целым рядом функций:\n",
    "- [tf.zeros](https://www.tensorflow.org/api_docs/python/tf/zeros)\n",
    "- [tf.ones](https://www.tensorflow.org/api_docs/python/tf/ones)\n",
    "- [tf.range](https://www.tensorflow.org/api_docs/python/tf/range)\n",
    "- [tf.linspace](https://www.tensorflow.org/api_docs/python/tf/linspace)\n",
    "- [tf.eye](https://www.tensorflow.org/api_docs/python/tf/eye)\n",
    "- [tf.random.normal](https://www.tensorflow.org/api_docs/python/tf/random/normal)\n",
    "- [tf.random.uniform](https://www.tensorflow.org/api_docs/python/tf/random/uniform)\n",
    "- [tf.random.poisson](https://www.tensorflow.org/api_docs/python/tf/random/poisson)\n",
    "\n",
    "Возможно некоторые функции звучат знакомо, поскольку все они доступны также и в Numpy. \n",
    "\n",
    "Чтобы конвертировать существующий np.ndarray в tf.Tensor используется функция [tf.convert_to_tensor](https://www.tensorflow.org/api_docs/python/tf/convert_to_tensor)"
   ]
  },
  {
   "cell_type": "code",
   "execution_count": null,
   "id": "fifth-copying",
   "metadata": {},
   "outputs": [],
   "source": [
    "x_np = np.random.normal(size=(3, 3)).astype('float32')\n",
    "x_tf = tf.convert_to_tensor(x_np)"
   ]
  },
  {
   "cell_type": "code",
   "execution_count": null,
   "id": "suitable-abuse",
   "metadata": {},
   "outputs": [],
   "source": [
    "x_np"
   ]
  },
  {
   "cell_type": "code",
   "execution_count": null,
   "id": "normal-seventh",
   "metadata": {},
   "outputs": [],
   "source": [
    "x_tf"
   ]
  },
  {
   "cell_type": "code",
   "execution_count": null,
   "id": "fluid-australia",
   "metadata": {},
   "outputs": [],
   "source": [
    "type(x_np), type(x_tf), x_np.dtype, x_tf.dtype"
   ]
  },
  {
   "cell_type": "code",
   "execution_count": null,
   "metadata": {},
   "outputs": [],
   "source": [
    "# Можно получить значение tf.Tensor в виде np.ndarray\n",
    "x_tf.numpy()"
   ]
  },
  {
   "cell_type": "code",
   "execution_count": null,
   "metadata": {},
   "outputs": [],
   "source": [
    "type(x_tf.numpy())"
   ]
  },
  {
   "cell_type": "markdown",
   "metadata": {},
   "source": [
    "### 1.2 Арифметика tf.Tensor"
   ]
  },
  {
   "cell_type": "markdown",
   "id": "mineral-trial",
   "metadata": {},
   "source": [
    "Во много tf.Tensor аналогичен np.ndarray: \n",
    "- над ним можно производить все базовые арифметические операции;\n",
    "- индексация и слайсинг;\n",
    "- broadcasting; \n",
    "- манипуляция размерностью, а также конкатенация, транспонирование, решейп и т.д.\n",
    "\n",
    "Если вы уже знакомы с Numpy, вы можете пропустить эту секцию."
   ]
  },
  {
   "cell_type": "code",
   "execution_count": null,
   "metadata": {},
   "outputs": [],
   "source": [
    "# Умножение на константу"
   ]
  },
  {
   "cell_type": "code",
   "execution_count": null,
   "id": "occupied-depression",
   "metadata": {},
   "outputs": [],
   "source": [
    "x_tf * 3"
   ]
  },
  {
   "cell_type": "code",
   "execution_count": null,
   "metadata": {},
   "outputs": [],
   "source": [
    "# Прибавление константы"
   ]
  },
  {
   "cell_type": "code",
   "execution_count": null,
   "id": "blank-prefix",
   "metadata": {},
   "outputs": [],
   "source": [
    "x_tf + 3"
   ]
  },
  {
   "cell_type": "code",
   "execution_count": null,
   "id": "original-layout",
   "metadata": {},
   "outputs": [],
   "source": [
    "# Сложение с тензором"
   ]
  },
  {
   "cell_type": "code",
   "execution_count": null,
   "metadata": {},
   "outputs": [],
   "source": [
    "x_tf + x_tf"
   ]
  },
  {
   "cell_type": "code",
   "execution_count": null,
   "metadata": {},
   "outputs": [],
   "source": [
    "# Умножение на тензор"
   ]
  },
  {
   "cell_type": "code",
   "execution_count": null,
   "metadata": {},
   "outputs": [],
   "source": [
    "x_tf * x_tf"
   ]
  },
  {
   "cell_type": "markdown",
   "metadata": {},
   "source": [
    "TensorFlow позволяет \"перемешивать\" разные тензоры (np.ndarray, list) в арифметических операциях\n",
    "при условии совместимости типов данных и размерностей тензоров."
   ]
  },
  {
   "cell_type": "code",
   "execution_count": null,
   "metadata": {},
   "outputs": [],
   "source": [
    "# Сложение с np.ndarray\n",
    "x_tf + x_np"
   ]
  },
  {
   "cell_type": "code",
   "execution_count": null,
   "metadata": {},
   "outputs": [],
   "source": [
    "# Сложение с list\n",
    "x_tf + [[ 1.3889265, -4.353553 ,  3.0287025],\n",
    "       [-0.5747313,  3.4388134,  2.3083975],\n",
    "       [ 1.8629724,  1.3481708, -1.8846952]]"
   ]
  },
  {
   "cell_type": "markdown",
   "metadata": {},
   "source": [
    "### 1.3 Индексация tf.Tensor"
   ]
  },
  {
   "cell_type": "markdown",
   "metadata": {},
   "source": [
    "tf.Tensor можно индексировать аналогично тому, как это можно делать с тензорами в Numpy."
   ]
  },
  {
   "cell_type": "code",
   "execution_count": null,
   "metadata": {},
   "outputs": [],
   "source": [
    "# Простая индексация\n",
    "x_tf[0]"
   ]
  },
  {
   "cell_type": "code",
   "execution_count": null,
   "metadata": {},
   "outputs": [],
   "source": [
    "x_tf[0, 0]"
   ]
  },
  {
   "cell_type": "code",
   "execution_count": null,
   "metadata": {},
   "outputs": [],
   "source": [
    "# Взятие последнего элемента в первой строчке матрицы\n",
    "x_tf[0, -1]"
   ]
  },
  {
   "cell_type": "code",
   "execution_count": null,
   "metadata": {},
   "outputs": [],
   "source": [
    "# Слайсинг\n",
    "x_tf[1:2]"
   ]
  },
  {
   "cell_type": "code",
   "execution_count": null,
   "metadata": {},
   "outputs": [],
   "source": [
    "x_tf[1:]"
   ]
  },
  {
   "cell_type": "code",
   "execution_count": null,
   "metadata": {},
   "outputs": [],
   "source": [
    "x_tf[:, 1:]"
   ]
  },
  {
   "cell_type": "markdown",
   "metadata": {},
   "source": [
    "### 1.4 Broadcasting"
   ]
  },
  {
   "cell_type": "markdown",
   "metadata": {},
   "source": [
    "Broadcasting позволяет производить арифметические операции над тензорами разных размерностей. В TensorFlow broadcasting работает подобно broadcasting в Numpy."
   ]
  },
  {
   "cell_type": "code",
   "execution_count": null,
   "metadata": {},
   "outputs": [],
   "source": [
    "print(x_tf)"
   ]
  },
  {
   "cell_type": "code",
   "execution_count": null,
   "metadata": {},
   "outputs": [],
   "source": [
    "x2_tf = tf.random.normal(dtype='float32', shape=(3,))\n",
    "print(x2_tf)"
   ]
  },
  {
   "cell_type": "code",
   "execution_count": null,
   "metadata": {},
   "outputs": [],
   "source": [
    "# Прибавление значений 3-мерного вектора к колонкам матрицы\n",
    "x_tf + tf.reshape(x2_tf, [3, 1])"
   ]
  },
  {
   "cell_type": "code",
   "execution_count": null,
   "metadata": {},
   "outputs": [],
   "source": [
    "# Прибавление значений 3-мерного вектора к строкам матрицы\n",
    "x_tf + tf.reshape(x2_tf, [1, 3])"
   ]
  },
  {
   "cell_type": "markdown",
   "metadata": {},
   "source": [
    "Broadcasting является очень мощным, но в то же время непростым инструментом при первом использовании. \n",
    "Больше о broadcasting можно почитать в [мануале Numpy](https://numpy.org/doc/stable/user/basics.broadcasting.html)."
   ]
  },
  {
   "cell_type": "markdown",
   "metadata": {},
   "source": [
    "### 1.5 Манипуляция размерностью, конкатенация тензоров и т.д."
   ]
  },
  {
   "cell_type": "markdown",
   "metadata": {},
   "source": [
    "Для манипуляции размерностью тензоров в TensorFlow имеются следующие функции:\n",
    "- [tf.reshape](https://www.tensorflow.org/api_docs/python/tf/reshape)\n",
    "- [tf.transpose](https://www.tensorflow.org/api_docs/python/tf/transpose)\n",
    "- [tf.expand_dims](https://www.tensorflow.org/api_docs/python/tf/expand_dims)\n",
    "- [tf.squeeze](https://www.tensorflow.org/api_docs/python/tf/squeeze)\n",
    "\n",
    "Выше перечисленные функции, опять-таки, могут показаться знакомыми, поскольку все они присутствуют также и в Numpy.\n",
    "\n",
    "Функции по манипуляции над несколькими тензорами:\n",
    "- [tf.concat](https://www.tensorflow.org/api_docs/python/tf/concat) - аналог np.concatenate\n",
    "- [tf.stack](https://www.tensorflow.org/api_docs/python/tf/stack)\n",
    "- [tf.split](https://www.tensorflow.org/api_docs/python/tf/split)\n",
    "\n",
    "За редким исключением названия функций в TensorFlow отличаются от их аналогов в Numpy (np.concatenate -> tf.concat)."
   ]
  },
  {
   "cell_type": "code",
   "execution_count": null,
   "metadata": {},
   "outputs": [],
   "source": [
    "tf.reshape(x_tf, 9)"
   ]
  },
  {
   "cell_type": "code",
   "execution_count": null,
   "metadata": {},
   "outputs": [],
   "source": [
    "tf.reshape(x_tf, -1)"
   ]
  },
  {
   "cell_type": "code",
   "execution_count": null,
   "metadata": {},
   "outputs": [],
   "source": [
    "tf.reshape(x_tf, [1, 1, 9])"
   ]
  },
  {
   "cell_type": "code",
   "execution_count": null,
   "metadata": {},
   "outputs": [],
   "source": [
    "# Изменение порядка осей\n",
    "tf.transpose(x_tf, [1, 0])"
   ]
  },
  {
   "cell_type": "code",
   "execution_count": null,
   "metadata": {},
   "outputs": [],
   "source": [
    "tf.concat([x_tf, x_tf], axis=0)"
   ]
  },
  {
   "cell_type": "code",
   "execution_count": null,
   "metadata": {},
   "outputs": [],
   "source": [
    "tf.concat([x_tf, x_tf], axis=1)"
   ]
  },
  {
   "cell_type": "markdown",
   "metadata": {},
   "source": [
    "# 2. Математика в TensorFlow"
   ]
  },
  {
   "cell_type": "markdown",
   "metadata": {},
   "source": [
    "TensorFlow в своей сути является математическим движком, соответственно и математических инструментов в нём более чем достаточно.\n",
    "В данном отношении API TensorFlow во многом следует Numpy:\n",
    "- из корневого пакеты доступны функции \"первой необходимости\":\n",
    "    - унарные функции (`tf.sin`, `tf.exp`, `tf.sqrt` и тд);\n",
    "    - операции редукции (`tf.reduce_sum`, `tf.reduce_mean`; они являются аналогами `np.sum` и `np.mean` соответственно)\n",
    "    - матричное умножение `tf.matmul`"
   ]
  },
  {
   "cell_type": "code",
   "execution_count": null,
   "metadata": {},
   "outputs": [],
   "source": [
    "tf.exp(x_tf)"
   ]
  },
  {
   "cell_type": "code",
   "execution_count": null,
   "metadata": {},
   "outputs": [],
   "source": [
    "tf.reduce_sum(x_tf, axis=1)"
   ]
  },
  {
   "cell_type": "code",
   "execution_count": null,
   "metadata": {},
   "outputs": [],
   "source": [
    "tf.matmul(x_tf, x_tf)"
   ]
  },
  {
   "cell_type": "markdown",
   "metadata": {},
   "source": [
    "Более продвинутые функции можно найти в соответствующих пакета:\n",
    "- [tf.linalg](https://www.tensorflow.org/api_docs/python/tf/linalg) - пакет линейной алгебры;\n",
    "- [tf.math](https://www.tensorflow.org/api_docs/python/tf/math) - пакет с базовыми (логарифм, тригонометрия), булевыми и специальными мат. функциями;\n",
    "- [tf.signal](https://www.tensorflow.org/api_docs/python/tf/signal) - пакет с инструментами обработки сигналов (преобразование Фурье)."
   ]
  },
  {
   "cell_type": "code",
   "execution_count": null,
   "metadata": {},
   "outputs": [],
   "source": [
    "# Вычисление обратной матрицы\n",
    "tf.linalg.inv(x_tf)"
   ]
  },
  {
   "cell_type": "code",
   "execution_count": null,
   "metadata": {},
   "outputs": [],
   "source": [
    "tf.math.reduce_std(x_tf, axis=1)"
   ]
  },
  {
   "cell_type": "code",
   "execution_count": null,
   "metadata": {},
   "outputs": [],
   "source": [
    "# Говоря о статистике, по историческим причинам чаще используют такой вариант\n",
    "mean, var = tf.nn.moments(x_tf, axes=1)\n",
    "mean, var"
   ]
  },
  {
   "cell_type": "markdown",
   "metadata": {},
   "source": [
    "# 3. Автоматическое дифференцирование в TensorFlow"
   ]
  },
  {
   "cell_type": "markdown",
   "metadata": {},
   "source": [
    "TensorFlow может автоматически дифференцировать выражения, эффективно вычисляя градиенты. \n",
    "Однако работает это непохоже на Matlab, поскольку приспособлено в основном для приложений глубого обучения.\n",
    "\n",
    "Градиенты (производные) в TensorFlow считаются посредством [Reverse-Mode Differentiation](https://en.wikipedia.org/wiki/Automatic_differentiation).\n",
    "Описывая в двух словах, данный подход к дифференцированию выражений использует \n",
    "[цепное правило дифференцирования сложной функции](https://ru.wikipedia.org/wiki/%D0%94%D0%B8%D1%84%D1%84%D0%B5%D1%80%D0%B5%D0%BD%D1%86%D0%B8%D1%80%D0%BE%D0%B2%D0%B0%D0%BD%D0%B8%D0%B5_%D1%81%D0%BB%D0%BE%D0%B6%D0%BD%D0%BE%D0%B9_%D1%84%D1%83%D0%BD%D0%BA%D1%86%D0%B8%D0%B8)\n",
    "(chain rule), в котором целевая производная вычисляется как произведение производных\n",
    "промежуточных выражений.\n",
    "\n",
    "Однако понимать математику процесса не нужно, чтобы использовать функции TensorFlow. Всё, что нужно знать: для произвольной скалярной функции f(x) Tensorflow позволяет вычесть градиент df(x)/dx."
   ]
  },
  {
   "cell_type": "code",
   "execution_count": null,
   "metadata": {},
   "outputs": [],
   "source": [
    "# Пример вычисления производной функции y = x^2\n",
    "\n",
    "def f(x):\n",
    "    return x ** 2\n",
    "\n",
    "x = tf.Variable(3.0)\n",
    "x2 = tf.Variable(3.0, trainable=False)\n",
    "\n",
    "# Посчитаем градиент для \"обучаемой переменной\"\n",
    "with tf.GradientTape() as tape:\n",
    "    y = f(x)\n",
    "    grad = tape.gradient(y, x)\n",
    "\n",
    "print(\"Градиент обучаемой переменной:\", grad)\n",
    "\n",
    "# Посчитаем градиент для \"необучаемой переменной\"\n",
    "with tf.GradientTape() as tape:\n",
    "    y = f(x2)\n",
    "    grad = tape.gradient(y, x2)\n",
    "\n",
    "print(\"Градиент необучаемой переменной:\", grad)"
   ]
  },
  {
   "cell_type": "markdown",
   "metadata": {},
   "source": [
    "Выше можно увидеть два нововведения: **tf.Variable** (переменная) и **tf.GradientTape**.\n",
    "\n",
    "tf.Variable по сути является тензором, значение которого можно модифицировать \n",
    "(как обычный np.ndarray). Именно переменные используется для хранения весов нейронной сети.\n",
    "\n",
    "tf.GradientTape является контекстным менеджером, внутри контекста которого TensorFlow \"записывает\" все вычисления на ленту (tape), \n",
    "а далее использует записанную информацию для вычисления производных посредством алгоритма обратного распространения.\n",
    "Важно: **tf.GradientTape не может вычислять градиенты выражений, что были посчитаны вне его контекста!**"
   ]
  },
  {
   "cell_type": "code",
   "execution_count": null,
   "metadata": {},
   "outputs": [],
   "source": [
    "x = tf.constant(3.0)\n",
    "y = f(x)\n",
    "with tf.GradientTape() as tape:\n",
    "    # y было вычислено вне контекста tape,\n",
    "    # поэтому tape не может посчитать какой-либо градиент для y\n",
    "    grad = tape.gradient(y, x)\n",
    "\n",
    "print(grad)"
   ]
  },
  {
   "cell_type": "code",
   "execution_count": null,
   "metadata": {},
   "outputs": [],
   "source": [
    "# GradientTape по умолчанию не считает градиенты для обычных тензоров\n",
    "x = tf.constant(3.0)\n",
    "\n",
    "with tf.GradientTape() as tape:\n",
    "    y = f(x)\n",
    "    grad = tape.gradient(y, x)\n",
    "\n",
    "print(grad)"
   ]
  },
  {
   "cell_type": "code",
   "execution_count": null,
   "metadata": {},
   "outputs": [],
   "source": [
    "# Но его можно заставить\n",
    "x = tf.constant(3.0)\n",
    "\n",
    "with tf.GradientTape() as tape:\n",
    "    # Указывает tape \"следить\" за тензором \n",
    "    tape.watch(x)\n",
    "    y = f(x)\n",
    "    grad = tape.gradient(y, x)\n",
    "\n",
    "print(grad)"
   ]
  },
  {
   "cell_type": "markdown",
   "metadata": {},
   "source": [
    "Более сложный пример: вычисление градиента весов логистической регрессии"
   ]
  },
  {
   "cell_type": "code",
   "execution_count": null,
   "metadata": {},
   "outputs": [],
   "source": [
    "N_INPUT_FEATURES = 128\n",
    "N_CLASSES = 10\n",
    "\n",
    "# Веса логистической регресии\n",
    "w = tf.Variable(tf.random.normal((N_INPUT_FEATURES, N_CLASSES)))\n",
    "b = tf.Variable(tf.zeros((N_CLASSES)))\n",
    "\n",
    "\n",
    "def logistic_regression(x, w, b):\n",
    "    x = tf.matmul(x, w) + b[None, :]  # аналогично tf.expand_dims(b, axis=0)\n",
    "    return tf.nn.softmax(x)\n",
    "\n",
    "\n",
    "def loss(out, i):\n",
    "    # out - выходное значение логистической регрессии\n",
    "    # i - номер класса, которому принадлежит экземпляр\n",
    "    l = tf.math.log(out)[:, i]\n",
    "    return -tf.reduce_mean(l)\n",
    "\n",
    "\n",
    "x = tf.random.normal((1, N_INPUT_FEATURES))  # условный экземпляр данных из датасета\n",
    "# x.shape - [batch_size, n_features]\n",
    "i = 8  # номер класса, которому принадлежит экземпляр\n",
    "\n",
    "with tf.GradientTape() as tape:\n",
    "    out = logistic_regression(x, w, b)\n",
    "    print('Out:', out.numpy())\n",
    "    loss_val = loss(out, i)\n",
    "    print('Loss before gradient update:', loss_val.numpy())\n",
    "    # grads = [grad_w, grad_b]\n",
    "    grads = tape.gradient(loss_val, [w, b])\n",
    "\n",
    "print('Grad W:', grads[0].numpy())\n",
    "print('Grad b:', grads[1].numpy())\n",
    "\n",
    "# Модифицируем значение весов и посчитает значение функции ошибки\n",
    "\n",
    "w.assign_sub(grads[0] * 0.1)\n",
    "b.assign_sub(grads[1] * 0.1)\n",
    "\n",
    "y = logistic_regression(x, w, b)\n",
    "l = loss(y, i)\n",
    "\n",
    "# Обратите внимание, что значение ошибки уменьшилось. Именно так и работает машинное обучение\n",
    "print('Loss after gradient update:', l.numpy())"
   ]
  },
  {
   "cell_type": "markdown",
   "metadata": {},
   "source": [
    "Больше информации об автоматическом дифференцировании можно найти на [официальном сайте TensorFlow](https://www.tensorflow.org/guide/autodiff)."
   ]
  }
 ],
 "metadata": {
  "kernelspec": {
   "display_name": "Python 3",
   "language": "python",
   "name": "python3"
  },
  "language_info": {
   "codemirror_mode": {
    "name": "ipython",
    "version": 3
   },
   "file_extension": ".py",
   "mimetype": "text/x-python",
   "name": "python",
   "nbconvert_exporter": "python",
   "pygments_lexer": "ipython3",
   "version": "3.8.10"
  }
 },
 "nbformat": 4,
 "nbformat_minor": 5
}
