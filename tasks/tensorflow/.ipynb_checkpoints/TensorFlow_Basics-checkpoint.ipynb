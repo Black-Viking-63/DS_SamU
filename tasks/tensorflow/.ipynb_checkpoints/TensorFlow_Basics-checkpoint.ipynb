{
 "cells": [
  {
   "cell_type": "markdown",
   "id": "progressive-antigua",
   "metadata": {},
   "source": [
    "# Что такое TensorFlow и где его используют?"
   ]
  },
  {
   "cell_type": "markdown",
   "id": "historic-washer",
   "metadata": {},
   "source": [
    "**TensorFlow - это библиотека машинного обучения, позволяющая обучать приозвольные модели глубокого обучения**: \n",
    "свёрточные нейронные сети, рекуррентные нейронные сети и прочие модели (вообще говоря, любые модели глубокого обучения). \n",
    "Однако **TensorFlow не ограничен только обучением нейронных сетей и может быть использован для решения любых математических \n",
    "задач**, где полезно утилизировать мощности GPU или же есть необходимость в автоматическом дифференцировании (вычисление \n",
    "производной).\n",
    "\n",
    "**TensorFlow имеет очень широкое сообщество.** Для TensorFlow существует большое множество туториалов, собраны целые библиотеки\n",
    "предобученных моделей. \n",
    "\n",
    "**TensorFlow отлично подходит как для научной деятельности, так и для бизнеса.** TensorFlow имеет целую экосистему инструментов:\n",
    "- TensorFlow Lite - полезен при разработке и оптимизации моделей, что будут запускаться на мобильных девайсах.\n",
    "- TensorFlow.js - разработка моделей, запускаемых прямо в браузере.\n",
    "- TensorFlow Extended - набор инструментов для деплоинга моделей в виде бизнес решений.\n",
    "- TensorFlow Hub - библиотека предобученных моделей (детекторы объектов, классификаторы и т.д.).\n",
    "\n",
    "Дабы не пугать новоприбывших, все вышеозвученные вещи знать необязательно. Чтобы эффективно использовать TensorFlow, достаточно лишь уметь пользоваться исходной библиотекой, это покроет 99% случаев. Остальное - вишенка на торте, упрощающая жизнь в сложных проектах."
   ]
  },
  {
   "cell_type": "markdown",
   "id": "exciting-burning",
   "metadata": {},
   "source": [
    "# Установка TensorFlow"
   ]
  },
  {
   "cell_type": "markdown",
   "id": "finnish-accommodation",
   "metadata": {},
   "source": [
    "**Готовый Docker образ:**\n",
    "```\n",
    "docker pull tensorflow/tensorflow:latest-gpu-jupyter\n",
    "docker run --rm -it --gpus all -p 8888:8888 tensorflow/tensorflow:latest-gpu-jupyter\n",
    "```\n",
    "Для корректного запуска данного контейнера на Windows необходима установка [NVIDIA Container Toolkit](https://github.com/NVIDIA/nvidia-docker).\n",
    "\n",
    "**Установка через pip:**\n",
    "\n",
    "TensorFlow 2.x требует Python версии 3.7 и выше.\n",
    "```\n",
    "pip install --upgrade pip\n",
    "pip install tensorflow\n",
    "```\n",
    "\n",
    "\n",
    "Официальная инструкция: \n",
    "https://www.tensorflow.org/install\n",
    "\n",
    "TensorFlow предустановлен в Google Colab: \n",
    "https://colab.research.google.com/notebooks/welcome.ipynb"
   ]
  },
  {
   "cell_type": "code",
   "execution_count": 1,
   "id": "consolidated-citizen",
   "metadata": {},
   "outputs": [
    {
     "data": {
      "text/plain": [
       "'2.8.0'"
      ]
     },
     "execution_count": 1,
     "metadata": {},
     "output_type": "execute_result"
    }
   ],
   "source": [
    "import tensorflow as tf\n",
    "import numpy as np\n",
    "tf.__version__"
   ]
  },
  {
   "cell_type": "code",
   "execution_count": 2,
   "metadata": {},
   "outputs": [
    {
     "data": {
      "text/plain": [
       "[PhysicalDevice(name='/physical_device:CPU:0', device_type='CPU'),\n",
       " PhysicalDevice(name='/physical_device:GPU:0', device_type='GPU')]"
      ]
     },
     "execution_count": 2,
     "metadata": {},
     "output_type": "execute_result"
    }
   ],
   "source": [
    "tf.config.list_physical_devices()"
   ]
  },
  {
   "cell_type": "markdown",
   "id": "advisory-cocktail",
   "metadata": {},
   "source": [
    "## 1. Основы работы с тензорами"
   ]
  },
  {
   "cell_type": "markdown",
   "metadata": {},
   "source": [
    "### 1.1 Создание tf.Tensor"
   ]
  },
  {
   "cell_type": "markdown",
   "id": "bizarre-gossip",
   "metadata": {},
   "source": [
    "Подобно тензорам (np.ndarray) в Numpy, TensorFlow имеет собственные тензоры tf.Tensor для манипуляции над численными данными. Их можно создать целым рядом функций:\n",
    "- [tf.zeros](https://www.tensorflow.org/api_docs/python/tf/zeros)\n",
    "- [tf.ones](https://www.tensorflow.org/api_docs/python/tf/ones)\n",
    "- [tf.range](https://www.tensorflow.org/api_docs/python/tf/range)\n",
    "- [tf.linspace](https://www.tensorflow.org/api_docs/python/tf/linspace)\n",
    "- [tf.eye](https://www.tensorflow.org/api_docs/python/tf/eye)\n",
    "- [tf.random.normal](https://www.tensorflow.org/api_docs/python/tf/random/normal)\n",
    "- [tf.random.uniform](https://www.tensorflow.org/api_docs/python/tf/random/uniform)\n",
    "- [tf.random.poisson](https://www.tensorflow.org/api_docs/python/tf/random/poisson)\n",
    "\n",
    "Возможно некоторые функции звучат знакомо, поскольку все они доступны также и в Numpy. \n",
    "\n",
    "Чтобы конвертировать существующий np.ndarray в tf.Tensor используется функция [tf.convert_to_tensor](https://www.tensorflow.org/api_docs/python/tf/convert_to_tensor)"
   ]
  },
  {
   "cell_type": "code",
   "execution_count": 3,
   "id": "fifth-copying",
   "metadata": {},
   "outputs": [],
   "source": [
    "x_np = np.random.normal(size=(3, 3)).astype('float32')\n",
    "x_tf = tf.convert_to_tensor(x_np)"
   ]
  },
  {
   "cell_type": "code",
   "execution_count": 4,
   "id": "suitable-abuse",
   "metadata": {},
   "outputs": [
    {
     "data": {
      "text/plain": [
       "array([[-0.30182257, -1.8361502 , -0.9878811 ],\n",
       "       [-0.8844696 ,  0.8323417 , -0.19583394],\n",
       "       [-0.31822467,  0.9908128 ,  0.9789114 ]], dtype=float32)"
      ]
     },
     "execution_count": 4,
     "metadata": {},
     "output_type": "execute_result"
    }
   ],
   "source": [
    "x_np"
   ]
  },
  {
   "cell_type": "code",
   "execution_count": 5,
   "id": "normal-seventh",
   "metadata": {},
   "outputs": [
    {
     "data": {
      "text/plain": [
       "<tf.Tensor: shape=(3, 3), dtype=float32, numpy=\n",
       "array([[-0.30182257, -1.8361502 , -0.9878811 ],\n",
       "       [-0.8844696 ,  0.8323417 , -0.19583394],\n",
       "       [-0.31822467,  0.9908128 ,  0.9789114 ]], dtype=float32)>"
      ]
     },
     "execution_count": 5,
     "metadata": {},
     "output_type": "execute_result"
    }
   ],
   "source": [
    "x_tf"
   ]
  },
  {
   "cell_type": "code",
   "execution_count": 6,
   "id": "fluid-australia",
   "metadata": {},
   "outputs": [
    {
     "data": {
      "text/plain": [
       "(numpy.ndarray,\n",
       " tensorflow.python.framework.ops.EagerTensor,\n",
       " dtype('float32'),\n",
       " tf.float32)"
      ]
     },
     "execution_count": 6,
     "metadata": {},
     "output_type": "execute_result"
    }
   ],
   "source": [
    "type(x_np), type(x_tf), x_np.dtype, x_tf.dtype"
   ]
  },
  {
   "cell_type": "markdown",
   "metadata": {},
   "source": [
    "### 1.2 Арифметика tf.Tensor"
   ]
  },
  {
   "cell_type": "markdown",
   "id": "mineral-trial",
   "metadata": {},
   "source": [
    "Во много tf.Tensor аналогичен np.ndarray: \n",
    "- над ним можно производить все базовые арифметические операции;\n",
    "- индексация и слайсинг;\n",
    "- broadcasting; \n",
    "- манипуляция размерностью, а также конкатенация, транспонирование, решейп и т.д.\n",
    "\n",
    "Если вы уже знакомы с Numpy, вы можете пропустить эту секцию."
   ]
  },
  {
   "cell_type": "code",
   "execution_count": 7,
   "metadata": {},
   "outputs": [],
   "source": [
    "# Умножение на константу"
   ]
  },
  {
   "cell_type": "code",
   "execution_count": 8,
   "id": "occupied-depression",
   "metadata": {},
   "outputs": [
    {
     "data": {
      "text/plain": [
       "<tf.Tensor: shape=(3, 3), dtype=float32, numpy=\n",
       "array([[-0.90546775, -5.5084505 , -2.9636433 ],\n",
       "       [-2.653409  ,  2.497025  , -0.5875018 ],\n",
       "       [-0.954674  ,  2.9724383 ,  2.9367342 ]], dtype=float32)>"
      ]
     },
     "execution_count": 8,
     "metadata": {},
     "output_type": "execute_result"
    }
   ],
   "source": [
    "x_tf * 3"
   ]
  },
  {
   "cell_type": "code",
   "execution_count": 9,
   "metadata": {},
   "outputs": [],
   "source": [
    "# Прибавление константы"
   ]
  },
  {
   "cell_type": "code",
   "execution_count": 10,
   "id": "blank-prefix",
   "metadata": {},
   "outputs": [
    {
     "data": {
      "text/plain": [
       "<tf.Tensor: shape=(3, 3), dtype=float32, numpy=\n",
       "array([[2.6981773, 1.1638498, 2.0121188],\n",
       "       [2.1155305, 3.8323417, 2.804166 ],\n",
       "       [2.6817753, 3.9908128, 3.9789114]], dtype=float32)>"
      ]
     },
     "execution_count": 10,
     "metadata": {},
     "output_type": "execute_result"
    }
   ],
   "source": [
    "x_tf + 3"
   ]
  },
  {
   "cell_type": "code",
   "execution_count": 11,
   "id": "original-layout",
   "metadata": {},
   "outputs": [],
   "source": [
    "# Сложение с тензором"
   ]
  },
  {
   "cell_type": "code",
   "execution_count": 12,
   "metadata": {},
   "outputs": [
    {
     "data": {
      "text/plain": [
       "<tf.Tensor: shape=(3, 3), dtype=float32, numpy=\n",
       "array([[-0.60364515, -3.6723003 , -1.9757622 ],\n",
       "       [-1.7689393 ,  1.6646833 , -0.39166787],\n",
       "       [-0.63644934,  1.9816256 ,  1.9578228 ]], dtype=float32)>"
      ]
     },
     "execution_count": 12,
     "metadata": {},
     "output_type": "execute_result"
    }
   ],
   "source": [
    "x_tf + x_tf"
   ]
  },
  {
   "cell_type": "code",
   "execution_count": 13,
   "metadata": {},
   "outputs": [],
   "source": [
    "# Умножение на тензор"
   ]
  },
  {
   "cell_type": "code",
   "execution_count": 14,
   "metadata": {},
   "outputs": [
    {
     "data": {
      "text/plain": [
       "<tf.Tensor: shape=(3, 3), dtype=float32, numpy=\n",
       "array([[0.09109686, 3.3714476 , 0.9759091 ],\n",
       "       [0.7822865 , 0.69279265, 0.03835093],\n",
       "       [0.10126694, 0.98170996, 0.9582675 ]], dtype=float32)>"
      ]
     },
     "execution_count": 14,
     "metadata": {},
     "output_type": "execute_result"
    }
   ],
   "source": [
    "x_tf * x_tf"
   ]
  },
  {
   "cell_type": "markdown",
   "metadata": {},
   "source": [
    "TensorFlow позволяет \"перемешивать\" разные тензоры (np.ndarray, list) в арифметических операциях\n",
    "при условии совместимости типов данных и размерностей тензоров."
   ]
  },
  {
   "cell_type": "code",
   "execution_count": 15,
   "metadata": {},
   "outputs": [
    {
     "data": {
      "text/plain": [
       "<tf.Tensor: shape=(3, 3), dtype=float32, numpy=\n",
       "array([[-0.60364515, -3.6723003 , -1.9757622 ],\n",
       "       [-1.7689393 ,  1.6646833 , -0.39166787],\n",
       "       [-0.63644934,  1.9816256 ,  1.9578228 ]], dtype=float32)>"
      ]
     },
     "execution_count": 15,
     "metadata": {},
     "output_type": "execute_result"
    }
   ],
   "source": [
    "# Сложение с np.ndarray\n",
    "x_tf + x_np"
   ]
  },
  {
   "cell_type": "code",
   "execution_count": 16,
   "metadata": {},
   "outputs": [
    {
     "data": {
      "text/plain": [
       "<tf.Tensor: shape=(3, 3), dtype=float32, numpy=\n",
       "array([[ 1.087104 , -6.189703 ,  2.0408213],\n",
       "       [-1.4592009,  4.2711554,  2.1125636],\n",
       "       [ 1.5447477,  2.3389835, -0.9057838]], dtype=float32)>"
      ]
     },
     "execution_count": 16,
     "metadata": {},
     "output_type": "execute_result"
    }
   ],
   "source": [
    "# Сложение с list\n",
    "x_tf + [[ 1.3889265, -4.353553 ,  3.0287025],\n",
    "       [-0.5747313,  3.4388134,  2.3083975],\n",
    "       [ 1.8629724,  1.3481708, -1.8846952]]"
   ]
  },
  {
   "cell_type": "markdown",
   "metadata": {},
   "source": [
    "### 1.3 Индексация tf.Tensor"
   ]
  },
  {
   "cell_type": "markdown",
   "metadata": {},
   "source": [
    "tf.Tensor можно индексировать аналогично тому, как это можно делать с тензорами в Numpy."
   ]
  },
  {
   "cell_type": "code",
   "execution_count": 17,
   "metadata": {},
   "outputs": [
    {
     "data": {
      "text/plain": [
       "<tf.Tensor: shape=(3,), dtype=float32, numpy=array([-0.30182257, -1.8361502 , -0.9878811 ], dtype=float32)>"
      ]
     },
     "execution_count": 17,
     "metadata": {},
     "output_type": "execute_result"
    }
   ],
   "source": [
    "# Простая индексация\n",
    "x_tf[0]"
   ]
  },
  {
   "cell_type": "code",
   "execution_count": 18,
   "metadata": {},
   "outputs": [
    {
     "data": {
      "text/plain": [
       "<tf.Tensor: shape=(), dtype=float32, numpy=-0.30182257>"
      ]
     },
     "execution_count": 18,
     "metadata": {},
     "output_type": "execute_result"
    }
   ],
   "source": [
    "x_tf[0, 0]"
   ]
  },
  {
   "cell_type": "code",
   "execution_count": 19,
   "metadata": {},
   "outputs": [
    {
     "data": {
      "text/plain": [
       "<tf.Tensor: shape=(), dtype=float32, numpy=-0.9878811>"
      ]
     },
     "execution_count": 19,
     "metadata": {},
     "output_type": "execute_result"
    }
   ],
   "source": [
    "# Взятие последнего элемента в первой строчке матрицы\n",
    "x_tf[0, -1]"
   ]
  },
  {
   "cell_type": "code",
   "execution_count": 20,
   "metadata": {},
   "outputs": [
    {
     "data": {
      "text/plain": [
       "<tf.Tensor: shape=(1, 3), dtype=float32, numpy=array([[-0.8844696 ,  0.8323417 , -0.19583394]], dtype=float32)>"
      ]
     },
     "execution_count": 20,
     "metadata": {},
     "output_type": "execute_result"
    }
   ],
   "source": [
    "# Слайсинг\n",
    "x_tf[1:2]"
   ]
  },
  {
   "cell_type": "code",
   "execution_count": 21,
   "metadata": {},
   "outputs": [
    {
     "data": {
      "text/plain": [
       "<tf.Tensor: shape=(2, 3), dtype=float32, numpy=\n",
       "array([[-0.8844696 ,  0.8323417 , -0.19583394],\n",
       "       [-0.31822467,  0.9908128 ,  0.9789114 ]], dtype=float32)>"
      ]
     },
     "execution_count": 21,
     "metadata": {},
     "output_type": "execute_result"
    }
   ],
   "source": [
    "x_tf[1:]"
   ]
  },
  {
   "cell_type": "code",
   "execution_count": 22,
   "metadata": {},
   "outputs": [
    {
     "data": {
      "text/plain": [
       "<tf.Tensor: shape=(3, 2), dtype=float32, numpy=\n",
       "array([[-1.8361502 , -0.9878811 ],\n",
       "       [ 0.8323417 , -0.19583394],\n",
       "       [ 0.9908128 ,  0.9789114 ]], dtype=float32)>"
      ]
     },
     "execution_count": 22,
     "metadata": {},
     "output_type": "execute_result"
    }
   ],
   "source": [
    "x_tf[:, 1:]"
   ]
  },
  {
   "cell_type": "markdown",
   "metadata": {},
   "source": [
    "### 1.4 Broadcasting"
   ]
  },
  {
   "cell_type": "markdown",
   "metadata": {},
   "source": [
    "Broadcasting позволяет производить арифметические операции над тензорами разных размерностей. В TensorFlow broadcasting работает подобно broadcasting в Numpy."
   ]
  },
  {
   "cell_type": "code",
   "execution_count": 23,
   "metadata": {},
   "outputs": [
    {
     "name": "stdout",
     "output_type": "stream",
     "text": [
      "tf.Tensor(\n",
      "[[-0.30182257 -1.8361502  -0.9878811 ]\n",
      " [-0.8844696   0.8323417  -0.19583394]\n",
      " [-0.31822467  0.9908128   0.9789114 ]], shape=(3, 3), dtype=float32)\n"
     ]
    }
   ],
   "source": [
    "print(x_tf)"
   ]
  },
  {
   "cell_type": "code",
   "execution_count": 24,
   "metadata": {},
   "outputs": [
    {
     "name": "stdout",
     "output_type": "stream",
     "text": [
      "tf.Tensor([1.4298956 1.1610811 1.3918436], shape=(3,), dtype=float32)\n"
     ]
    }
   ],
   "source": [
    "x2_tf = tf.random.normal(dtype='float32', shape=(3,))\n",
    "print(x2_tf)"
   ]
  },
  {
   "cell_type": "code",
   "execution_count": 25,
   "metadata": {},
   "outputs": [
    {
     "data": {
      "text/plain": [
       "<tf.Tensor: shape=(3, 3), dtype=float32, numpy=\n",
       "array([[ 1.1280731 , -0.40625453,  0.44201452],\n",
       "       [ 0.27661145,  1.9934227 ,  0.96524715],\n",
       "       [ 1.0736189 ,  2.3826563 ,  2.370755  ]], dtype=float32)>"
      ]
     },
     "execution_count": 25,
     "metadata": {},
     "output_type": "execute_result"
    }
   ],
   "source": [
    "# Прибавление значений 3-мерного вектора к колонкам матрицы\n",
    "x_tf + tf.reshape(x2_tf, [3, 1])"
   ]
  },
  {
   "cell_type": "code",
   "execution_count": 26,
   "metadata": {},
   "outputs": [
    {
     "data": {
      "text/plain": [
       "<tf.Tensor: shape=(3, 3), dtype=float32, numpy=\n",
       "array([[ 1.1280731 , -0.6750691 ,  0.40396243],\n",
       "       [ 0.545426  ,  1.9934227 ,  1.1960096 ],\n",
       "       [ 1.111671  ,  2.1518939 ,  2.370755  ]], dtype=float32)>"
      ]
     },
     "execution_count": 26,
     "metadata": {},
     "output_type": "execute_result"
    }
   ],
   "source": [
    "# Прибавление значений 3-мерного вектора к строкам матрицы\n",
    "x_tf + tf.reshape(x2_tf, [1, 3])"
   ]
  },
  {
   "cell_type": "markdown",
   "metadata": {},
   "source": [
    "Broadcasting является очень мощным, но в то же время непростым инструментом при первом использовании. \n",
    "Больше о broadcasting можно почитать в [мануале Numpy](https://numpy.org/doc/stable/user/basics.broadcasting.html)."
   ]
  },
  {
   "cell_type": "markdown",
   "metadata": {},
   "source": [
    "### 1.5 Манипуляция размерностью, конкатенация тензоров и т.д."
   ]
  },
  {
   "cell_type": "markdown",
   "metadata": {},
   "source": [
    "Для манипуляции размерностью тензоров в TensorFlow имеются следующие функции:\n",
    "- [tf.reshape](https://www.tensorflow.org/api_docs/python/tf/reshape)\n",
    "- [tf.transpose](https://www.tensorflow.org/api_docs/python/tf/transpose)\n",
    "- [tf.expand_dims](https://www.tensorflow.org/api_docs/python/tf/expand_dims)\n",
    "- [tf.squeeze](https://www.tensorflow.org/api_docs/python/tf/squeeze)\n",
    "\n",
    "Выше перечисленные функции, опять-таки, могут показаться знакомыми, поскольку все они присутствуют также и в Numpy.\n",
    "\n",
    "Функции по манипуляции над несколькими тензорами:\n",
    "- [tf.concat](https://www.tensorflow.org/api_docs/python/tf/concat) - аналог np.concatenate\n",
    "- [tf.stack](https://www.tensorflow.org/api_docs/python/tf/stack)\n",
    "- [tf.split](https://www.tensorflow.org/api_docs/python/tf/split)\n",
    "\n",
    "За редким исключением названия функций в TensorFlow отличаются от их аналогов в Numpy (np.concatenate -> tf.concat)."
   ]
  },
  {
   "cell_type": "code",
   "execution_count": 27,
   "metadata": {},
   "outputs": [
    {
     "data": {
      "text/plain": [
       "<tf.Tensor: shape=(9,), dtype=float32, numpy=\n",
       "array([-0.30182257, -1.8361502 , -0.9878811 , -0.8844696 ,  0.8323417 ,\n",
       "       -0.19583394, -0.31822467,  0.9908128 ,  0.9789114 ], dtype=float32)>"
      ]
     },
     "execution_count": 27,
     "metadata": {},
     "output_type": "execute_result"
    }
   ],
   "source": [
    "tf.reshape(x_tf, 9)"
   ]
  },
  {
   "cell_type": "code",
   "execution_count": 28,
   "metadata": {},
   "outputs": [
    {
     "data": {
      "text/plain": [
       "<tf.Tensor: shape=(9,), dtype=float32, numpy=\n",
       "array([-0.30182257, -1.8361502 , -0.9878811 , -0.8844696 ,  0.8323417 ,\n",
       "       -0.19583394, -0.31822467,  0.9908128 ,  0.9789114 ], dtype=float32)>"
      ]
     },
     "execution_count": 28,
     "metadata": {},
     "output_type": "execute_result"
    }
   ],
   "source": [
    "tf.reshape(x_tf, -1)"
   ]
  },
  {
   "cell_type": "code",
   "execution_count": 29,
   "metadata": {},
   "outputs": [
    {
     "data": {
      "text/plain": [
       "<tf.Tensor: shape=(1, 1, 9), dtype=float32, numpy=\n",
       "array([[[-0.30182257, -1.8361502 , -0.9878811 , -0.8844696 ,\n",
       "          0.8323417 , -0.19583394, -0.31822467,  0.9908128 ,\n",
       "          0.9789114 ]]], dtype=float32)>"
      ]
     },
     "execution_count": 29,
     "metadata": {},
     "output_type": "execute_result"
    }
   ],
   "source": [
    "tf.reshape(x_tf, [1, 1, 9])"
   ]
  },
  {
   "cell_type": "code",
   "execution_count": 30,
   "metadata": {},
   "outputs": [
    {
     "data": {
      "text/plain": [
       "<tf.Tensor: shape=(3, 3), dtype=float32, numpy=\n",
       "array([[-0.30182257, -0.8844696 , -0.31822467],\n",
       "       [-1.8361502 ,  0.8323417 ,  0.9908128 ],\n",
       "       [-0.9878811 , -0.19583394,  0.9789114 ]], dtype=float32)>"
      ]
     },
     "execution_count": 30,
     "metadata": {},
     "output_type": "execute_result"
    }
   ],
   "source": [
    "# Изменение порядка осей\n",
    "tf.transpose(x_tf, [1, 0])"
   ]
  },
  {
   "cell_type": "code",
   "execution_count": 31,
   "metadata": {},
   "outputs": [
    {
     "data": {
      "text/plain": [
       "<tf.Tensor: shape=(6, 3), dtype=float32, numpy=\n",
       "array([[-0.30182257, -1.8361502 , -0.9878811 ],\n",
       "       [-0.8844696 ,  0.8323417 , -0.19583394],\n",
       "       [-0.31822467,  0.9908128 ,  0.9789114 ],\n",
       "       [-0.30182257, -1.8361502 , -0.9878811 ],\n",
       "       [-0.8844696 ,  0.8323417 , -0.19583394],\n",
       "       [-0.31822467,  0.9908128 ,  0.9789114 ]], dtype=float32)>"
      ]
     },
     "execution_count": 31,
     "metadata": {},
     "output_type": "execute_result"
    }
   ],
   "source": [
    "tf.concat([x_tf, x_tf], axis=0)"
   ]
  },
  {
   "cell_type": "code",
   "execution_count": 32,
   "metadata": {},
   "outputs": [
    {
     "data": {
      "text/plain": [
       "<tf.Tensor: shape=(3, 6), dtype=float32, numpy=\n",
       "array([[-0.30182257, -1.8361502 , -0.9878811 , -0.30182257, -1.8361502 ,\n",
       "        -0.9878811 ],\n",
       "       [-0.8844696 ,  0.8323417 , -0.19583394, -0.8844696 ,  0.8323417 ,\n",
       "        -0.19583394],\n",
       "       [-0.31822467,  0.9908128 ,  0.9789114 , -0.31822467,  0.9908128 ,\n",
       "         0.9789114 ]], dtype=float32)>"
      ]
     },
     "execution_count": 32,
     "metadata": {},
     "output_type": "execute_result"
    }
   ],
   "source": [
    "tf.concat([x_tf, x_tf], axis=1)"
   ]
  },
  {
   "cell_type": "markdown",
   "metadata": {},
   "source": [
    "# 2. Математика в TensorFlow"
   ]
  },
  {
   "cell_type": "markdown",
   "metadata": {},
   "source": [
    "TensorFlow в своей сути является математическим движком, соответственно и инструментов для работы в нём более чем достаточно.\n",
    "В данном отношении API TensorFlow во многом следует Numpy:\n",
    "- из корневого пакеты доступны функции \"первой необходимости\":\n",
    "    - унарные функции (`tf.sin`, `tf.log`, `tf.exp`, `tf.sqrt` и тд);\n",
    "    - операции редукции (`tf.reduce_sum`, `tf.reduce_mean`; они являются аналогами `np.sum` и `np.mean` соответственно)\n",
    "    - матричное умножение `tf.matmul`"
   ]
  },
  {
   "cell_type": "code",
   "execution_count": 33,
   "metadata": {},
   "outputs": [
    {
     "data": {
      "text/plain": [
       "<tf.Tensor: shape=(3, 3), dtype=float32, numpy=\n",
       "array([[0.7394693 , 0.15943003, 0.37236488],\n",
       "       [0.41293314, 2.2986953 , 0.8221488 ],\n",
       "       [0.72743934, 2.6934228 , 2.6615572 ]], dtype=float32)>"
      ]
     },
     "execution_count": 33,
     "metadata": {},
     "output_type": "execute_result"
    }
   ],
   "source": [
    "tf.exp(x_tf)"
   ]
  },
  {
   "cell_type": "code",
   "execution_count": 36,
   "metadata": {},
   "outputs": [
    {
     "data": {
      "text/plain": [
       "<tf.Tensor: shape=(3,), dtype=float32, numpy=array([-3.125854 , -0.2479619,  1.6514995], dtype=float32)>"
      ]
     },
     "execution_count": 36,
     "metadata": {},
     "output_type": "execute_result"
    }
   ],
   "source": [
    "tf.reduce_sum(x_tf, axis=1)"
   ]
  },
  {
   "cell_type": "code",
   "execution_count": 37,
   "metadata": {},
   "outputs": [
    {
     "data": {
      "text/plain": [
       "<tf.Tensor: shape=(3, 3), dtype=float32, numpy=\n",
       "array([[ 2.029484  , -1.952918  , -0.30930275],\n",
       "       [-0.4069088 ,  2.1227767 ,  0.519046  ],\n",
       "       [-1.0918101 ,  2.378921  ,  1.0786009 ]], dtype=float32)>"
      ]
     },
     "execution_count": 37,
     "metadata": {},
     "output_type": "execute_result"
    }
   ],
   "source": [
    "tf.matmul(x_tf, x_tf)"
   ]
  },
  {
   "cell_type": "markdown",
   "metadata": {},
   "source": [
    "Более продвинутые функции можно найти в соответствующих пакета:\n",
    "- [tf.linalg](https://www.tensorflow.org/api_docs/python/tf/linalg) - пакет линейной алгебры;\n",
    "- [tf.math](https://www.tensorflow.org/api_docs/python/tf/math) - пакет с базовыми (логарифм, тригонометрия), булевыми и специальными мат. функциями;\n",
    "- [tf.signal](https://www.tensorflow.org/api_docs/python/tf/signal) - пакет с инструментами обработки сигналов (преобразование Фурье)."
   ]
  },
  {
   "cell_type": "code",
   "execution_count": 47,
   "metadata": {},
   "outputs": [
    {
     "data": {
      "text/plain": [
       "<tf.Tensor: shape=(3, 3), dtype=float32, numpy=\n",
       "array([[-0.71821713, -0.5828066 , -0.8413902 ],\n",
       "       [-0.6607732 ,  0.43415648, -0.5799737 ],\n",
       "       [ 0.43532863, -0.62889373,  1.3350486 ]], dtype=float32)>"
      ]
     },
     "execution_count": 47,
     "metadata": {},
     "output_type": "execute_result"
    }
   ],
   "source": [
    "# Вычисление обратной матрицы\n",
    "tf.linalg.inv(x_tf)"
   ]
  },
  {
   "cell_type": "code",
   "execution_count": 40,
   "metadata": {},
   "outputs": [
    {
     "data": {
      "text/plain": [
       "<tf.Tensor: shape=(3,), dtype=float32, numpy=array([0.6275524, 0.7054396, 0.6143002], dtype=float32)>"
      ]
     },
     "execution_count": 40,
     "metadata": {},
     "output_type": "execute_result"
    }
   ],
   "source": [
    "tf.math.reduce_std(x_tf, axis=1)"
   ]
  },
  {
   "cell_type": "code",
   "execution_count": 45,
   "metadata": {},
   "outputs": [
    {
     "data": {
      "text/plain": [
       "(<tf.Tensor: shape=(3,), dtype=float32, numpy=array([-1.0419513 , -0.08265396,  0.55049986], dtype=float32)>,\n",
       " <tf.Tensor: shape=(3,), dtype=float32, numpy=array([0.39382198, 0.49764505, 0.37736475], dtype=float32)>)"
      ]
     },
     "execution_count": 45,
     "metadata": {},
     "output_type": "execute_result"
    }
   ],
   "source": [
    "# Говоря о статистике, по историческим причинам чаще используют такой вариант\n",
    "mean, var = tf.nn.moments(x_tf, axes=1)\n",
    "mean, var"
   ]
  },
  {
   "cell_type": "markdown",
   "metadata": {},
   "source": [
    "# 3. Автоматическое дифференцирование в TensorFlow"
   ]
  },
  {
   "cell_type": "markdown",
   "metadata": {},
   "source": [
    "TensorFlow может автоматически дифференцировать выражения, эффективно вычисляя градиенты. \n",
    "Однако работает это непохоже на Matlab, поскольку приспособлено в основном для приложений глубого обучения.\n",
    "\n",
    "Градиенты (производные) в TensorFlow считаются посредством [Reverse-Mode Differentiation](https://en.wikipedia.org/wiki/Automatic_differentiation).\n",
    "Описывая в двух словах, данный подход к дифференцированию выражений использует \n",
    "[цепное правило дифференцирования сложной функции](https://ru.wikipedia.org/wiki/%D0%94%D0%B8%D1%84%D1%84%D0%B5%D1%80%D0%B5%D0%BD%D1%86%D0%B8%D1%80%D0%BE%D0%B2%D0%B0%D0%BD%D0%B8%D0%B5_%D1%81%D0%BB%D0%BE%D0%B6%D0%BD%D0%BE%D0%B9_%D1%84%D1%83%D0%BD%D0%BA%D1%86%D0%B8%D0%B8)\n",
    "(chain rule), в котором целевая производная вычисляется как произведение производных\n",
    "промежуточных выражений.\n",
    "\n",
    "Однако понимать математику процесса не нужно, чтобы использовать функции TensorFlow. Всё, что нужно знать: для произвольной скалярной функции f(x) Tensorflow позволяет вычесть градиент df(x)/dx."
   ]
  },
  {
   "cell_type": "code",
   "execution_count": 58,
   "metadata": {},
   "outputs": [
    {
     "name": "stdout",
     "output_type": "stream",
     "text": [
      "Градиент обучаемой переменной: tf.Tensor(6.0, shape=(), dtype=float32)\n",
      "Градиент необучаемой переменной: None\n"
     ]
    }
   ],
   "source": [
    "# Пример вычисления производной функции y = x^2\n",
    "\n",
    "def f(x):\n",
    "    return x ** 2\n",
    "\n",
    "x = tf.Variable(3.0)\n",
    "x2 = tf.Variable(3.0, trainable=False)\n",
    "\n",
    "# Посчитаем градиент для \"обучаемой переменной\"\n",
    "with tf.GradientTape() as tape:\n",
    "    y = f(x)\n",
    "    grad = tape.gradient(y, x)\n",
    "\n",
    "print(\"Градиент обучаемой переменной:\", grad)\n",
    "\n",
    "# Посчитаем градиент для \"необучаемой переменной\"\n",
    "with tf.GradientTape() as tape:\n",
    "    y = f(x2)\n",
    "    grad = tape.gradient(y, x2)\n",
    "\n",
    "print(\"Градиент необучаемой переменной:\", grad)"
   ]
  },
  {
   "cell_type": "markdown",
   "metadata": {},
   "source": [
    "Выше можно увидеть новый объект - **tf.Variable** (переменная). Переменные по сути является тензором, значение которого можно модифицировать \n",
    "(как обычный np.ndarray). Именно переменные используется для хранения весов нейронной сети."
   ]
  },
  {
   "cell_type": "code",
   "execution_count": 51,
   "metadata": {},
   "outputs": [
    {
     "name": "stdout",
     "output_type": "stream",
     "text": [
      "None\n"
     ]
    }
   ],
   "source": [
    "# GradientTape по умолчанию не считает градиенты для обычных тензоров\n",
    "x = tf.constant(3.0)\n",
    "\n",
    "with tf.GradientTape() as tape:\n",
    "    y = f(x)\n",
    "    grad = tape.gradient(y, x)\n",
    "\n",
    "print(grad)"
   ]
  },
  {
   "cell_type": "code",
   "execution_count": 53,
   "metadata": {},
   "outputs": [
    {
     "name": "stdout",
     "output_type": "stream",
     "text": [
      "tf.Tensor(6.0, shape=(), dtype=float32)\n"
     ]
    }
   ],
   "source": [
    "# Но его можно заставить\n",
    "x = tf.constant(3.0)\n",
    "\n",
    "with tf.GradientTape() as tape:\n",
    "    # Указывает tape \"следить\" за тензором \n",
    "    tape.watch(x)\n",
    "    y = f(x)\n",
    "    grad = tape.gradient(y, x)\n",
    "\n",
    "print(grad)"
   ]
  },
  {
   "cell_type": "code",
   "execution_count": 63,
   "metadata": {},
   "outputs": [
    {
     "name": "stdout",
     "output_type": "stream",
     "text": [
      "Out: tf.Tensor(\n",
      "[[3.64476705e-06 7.54156204e-09 1.67738126e-05 1.12760285e-13\n",
      "  9.99979615e-01 3.87019973e-12 6.76361632e-17 2.35801406e-10\n",
      "  3.09270491e-15 2.10132510e-14]], shape=(1, 10), dtype=float32)\n",
      "Loss: tf.Tensor(33.40973, shape=(), dtype=float32)\n",
      "Grad W: tf.Tensor(\n",
      "[[ 2.5778745e-06  5.3340035e-09  1.1863799e-05 ...  1.6677786e-10\n",
      "  -7.0728099e-01  1.4862272e-14]\n",
      " [-6.2113500e-06 -1.2852202e-08 -2.8585646e-05 ... -4.0184875e-10\n",
      "   1.7041830e+00 -3.5810425e-14]\n",
      " [ 1.1007196e-06  2.2775517e-09  5.0656913e-06 ...  7.1212022e-11\n",
      "  -3.0199999e-01  6.3460013e-15]\n",
      " ...\n",
      " [ 2.8787065e-06  5.9564695e-09  1.3248277e-05 ...  1.8624044e-10\n",
      "  -7.8981906e-01  1.6596665e-14]\n",
      " [-1.1475131e-06 -2.3743743e-09 -5.2810424e-06 ... -7.4239365e-11\n",
      "   3.1483853e-01 -6.6157809e-15]\n",
      " [ 5.3177237e-06  1.1003157e-08  2.4473033e-05 ...  3.4403480e-10\n",
      "  -1.4590024e+00  3.0658385e-14]], shape=(128, 10), dtype=float32)\n",
      "Grad b: tf.Tensor(\n",
      "[ 3.64476705e-06  7.54156204e-09  1.67738126e-05  1.12760285e-13\n",
      "  9.99979615e-01  3.87019973e-12  6.76361632e-17  2.35801406e-10\n",
      " -1.00000000e+00  2.10132510e-14], shape=(10,), dtype=float32)\n"
     ]
    }
   ],
   "source": [
    "# Более сложный пример: вычисление градиента весов логистической регрессии\n",
    "\n",
    "N_INPUT_FEATURES = 128\n",
    "N_CLASSES = 10\n",
    "\n",
    "w = tf.Variable(tf.random.normal((N_INPUT_FEATURES, N_CLASSES)))\n",
    "b = tf.Variable(tf.zeros((N_CLASSES)))\n",
    "\n",
    "def logistic_regression(x, w, b):\n",
    "    x = tf.matmul(x, w) + b[None, :] # аналогично tf.expand_dims(b, axis=0)\n",
    "    return tf.nn.softmax(x)\n",
    "\n",
    "def loss(out, i):\n",
    "    # out - выходное значение логистической регрессии\n",
    "    # i - номер класса, которому принадлежит экземпляр\n",
    "    l = tf.math.log(out)[:, i]\n",
    "    return -tf.reduce_mean(l)\n",
    "\n",
    "x = tf.random.normal((1, N_INPUT_FEATURES))\n",
    "# x.shape - [batch_size, n_features]\n",
    "i = 8\n",
    "\n",
    "with tf.GradientTape() as tape:\n",
    "    out = logistic_regression(x, w, b)\n",
    "    print('Out:', out)\n",
    "    loss_val = loss(out, i)\n",
    "    print('Loss:', loss_val)\n",
    "    # grads = [grad_w, grad_b]\n",
    "    grads = tape.gradient(loss_val, [w, b])\n",
    "\n",
    "print('Grad W:', grads[0])\n",
    "print('Grad b:', grads[1])"
   ]
  },
  {
   "cell_type": "markdown",
   "metadata": {},
   "source": [
    "Больше информации об автоматическом дифференцировании можно найти на [официальном сайте TensorFlow](https://www.tensorflow.org/guide/autodiff)."
   ]
  }
 ],
 "metadata": {
  "kernelspec": {
   "display_name": "Python 3",
   "language": "python",
   "name": "python3"
  },
  "language_info": {
   "codemirror_mode": {
    "name": "ipython",
    "version": 3
   },
   "file_extension": ".py",
   "mimetype": "text/x-python",
   "name": "python",
   "nbconvert_exporter": "python",
   "pygments_lexer": "ipython3",
   "version": "3.8.10"
  }
 },
 "nbformat": 4,
 "nbformat_minor": 5
}
