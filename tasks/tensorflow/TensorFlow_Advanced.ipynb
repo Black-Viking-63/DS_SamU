{
 "cells": [
  {
   "cell_type": "markdown",
   "metadata": {},
   "source": [
    "# Построение и обучение моделей в TensorFlow"
   ]
  },
  {
   "cell_type": "markdown",
   "metadata": {},
   "source": [
    "В предыдущей лекции был рассмотрен низкоуровневый АПИ TensorFlow. Была построена и обучения модель, используя самые базовые инструменты. В данной лекции будет введен целый ряд новых инструментов в библиотеке TensorFlow, что сильно упрощают построение и обучение моделей. Будут рассмотрены:\n",
    "1. [tf.data АПИ](https://www.tensorflow.org/guide/data) и в частности tf.data.Dataset - инструменты работы с датасетами;\n",
    "2. [Keras](https://keras.io/about/) - инструменты для построения и обучения модели."
   ]
  },
  {
   "cell_type": "markdown",
   "metadata": {},
   "source": [
    "# 2. Высокоуровневый АПИ + Keras"
   ]
  },
  {
   "cell_type": "code",
   "execution_count": null,
   "metadata": {},
   "outputs": [],
   "source": [
    "# "
   ]
  }
 ],
 "metadata": {
  "kernelspec": {
   "display_name": "Python 3",
   "language": "python",
   "name": "python3"
  },
  "language_info": {
   "codemirror_mode": {
    "name": "ipython",
    "version": 3
   },
   "file_extension": ".py",
   "mimetype": "text/x-python",
   "name": "python",
   "nbconvert_exporter": "python",
   "pygments_lexer": "ipython3",
   "version": "3.8.10"
  }
 },
 "nbformat": 4,
 "nbformat_minor": 2
}
